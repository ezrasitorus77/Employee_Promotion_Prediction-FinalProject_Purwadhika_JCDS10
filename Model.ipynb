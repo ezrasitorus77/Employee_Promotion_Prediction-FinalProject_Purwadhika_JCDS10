{
 "cells": [
  {
   "cell_type": "markdown",
   "metadata": {
    "id": "ooHyW0MkE7uB"
   },
   "source": [
    "**Source : https://www.kaggle.com/shivan118/hranalysis**"
   ]
  },
  {
   "cell_type": "markdown",
   "metadata": {
    "id": "N9MwsXirE7uC"
   },
   "source": [
    "# Importing Modules and Files"
   ]
  },
  {
   "cell_type": "code",
   "execution_count": 2,
   "metadata": {
    "code_folding": [
     0
    ],
    "colab": {
     "base_uri": "https://localhost:8080/",
     "height": 237
    },
    "id": "bCZd8hQCE7uC",
    "outputId": "1d8ba4ea-0cee-4382-d830-4c9b00ff0deb"
   },
   "outputs": [
    {
     "data": {
      "text/html": [
       "<style>.container { width:100% !important; }</style>"
      ],
      "text/plain": [
       "<IPython.core.display.HTML object>"
      ]
     },
     "metadata": {},
     "output_type": "display_data"
    }
   ],
   "source": [
    "# Modules needed\n",
    "import pandas as pd, matplotlib.pyplot as plt, seaborn as sns, numpy as np, math, warnings, joblib\n",
    "from sklearn.utils import resample\n",
    "from sklearn.model_selection import train_test_split, GridSearchCV, RandomizedSearchCV\n",
    "from sklearn.metrics import plot_confusion_matrix, recall_score, roc_auc_score, auc\n",
    "from sklearn.ensemble import RandomForestClassifier\n",
    "from sklearn.preprocessing import MinMaxScaler\n",
    "from sklearn.linear_model import LogisticRegression\n",
    "from sklearn.neighbors import KNeighborsClassifier\n",
    "from sklearn.svm import SVC\n",
    "from xgboost import XGBClassifier\n",
    "from IPython.core.display import display, HTML\n",
    "from imblearn.over_sampling import SMOTE\n",
    "from collections import Counter\n",
    "\n",
    "display(HTML(\"<style>.container { width:100% !important; }</style>\"))\n",
    "warnings.filterwarnings(\"ignore\")\n",
    "\n",
    "data = pd.read_csv(\"./fullprocesseddata.csv\")"
   ]
  },
  {
   "cell_type": "markdown",
   "metadata": {
    "id": "zgTNRI5vE7ui"
   },
   "source": [
    "# Modelling"
   ]
  },
  {
   "cell_type": "markdown",
   "metadata": {
    "id": "hfkKQBl9Jl6c"
   },
   "source": [
    "## Pre - Processing"
   ]
  },
  {
   "cell_type": "markdown",
   "metadata": {
    "id": "3vh3TmCyPB5M"
   },
   "source": [
    "### One Hot Encoding\n",
    "The only features left that haven't been encoded are department and recruitment channel. Since they don't have an order, we have to use One Hot Encoding."
   ]
  },
  {
   "cell_type": "code",
   "execution_count": 1170,
   "metadata": {
    "code_folding": [
     0
    ],
    "id": "LPNZ0CFXPOXq"
   },
   "outputs": [],
   "source": [
    "# Encode\n",
    "# Department\n",
    "data = pd.get_dummies(data = data, columns = [\"department\"])\n",
    "\n",
    "# Recruitment channel\n",
    "data = pd.get_dummies(data = data, columns = [\"recruitment_channel\"])"
   ]
  },
  {
   "cell_type": "code",
   "execution_count": 1176,
   "metadata": {
    "code_folding": [
     0
    ],
    "id": "nIG8uXjEE7ui"
   },
   "outputs": [],
   "source": [
    "# Removes unnecessary columns\n",
    "data.drop([\"employee_id\", \"education\", \"no_of_trainings\", \"length_of_service\", \"avg_training_score\", \"isBelowReg\", \"serviceRange\"], 1, inplace = True)"
   ]
  },
  {
   "cell_type": "markdown",
   "metadata": {
    "id": "7Q4THZsHT3BI"
   },
   "source": [
    "### Target Proportion"
   ]
  },
  {
   "cell_type": "code",
   "execution_count": 1179,
   "metadata": {
    "code_folding": [
     0
    ],
    "colab": {
     "base_uri": "https://localhost:8080/",
     "height": 125
    },
    "id": "ZEQHeb8TT6kD",
    "outputId": "bebcce02-909c-45c0-c2c6-99c75953aeb7"
   },
   "outputs": [
    {
     "name": "stdout",
     "output_type": "stream",
     "text": [
      "Proportion :\n"
     ]
    },
    {
     "data": {
      "text/html": [
       "<div>\n",
       "<style scoped>\n",
       "    .dataframe tbody tr th:only-of-type {\n",
       "        vertical-align: middle;\n",
       "    }\n",
       "\n",
       "    .dataframe tbody tr th {\n",
       "        vertical-align: top;\n",
       "    }\n",
       "\n",
       "    .dataframe thead th {\n",
       "        text-align: right;\n",
       "    }\n",
       "</style>\n",
       "<table border=\"1\" class=\"dataframe\">\n",
       "  <thead>\n",
       "    <tr style=\"text-align: right;\">\n",
       "      <th></th>\n",
       "      <th>Count (%)</th>\n",
       "    </tr>\n",
       "  </thead>\n",
       "  <tbody>\n",
       "    <tr>\n",
       "      <th>Not Promoted</th>\n",
       "      <td>91.5</td>\n",
       "    </tr>\n",
       "    <tr>\n",
       "      <th>Promoted</th>\n",
       "      <td>8.5</td>\n",
       "    </tr>\n",
       "  </tbody>\n",
       "</table>\n",
       "</div>"
      ],
      "text/plain": [
       "              Count (%)\n",
       "Not Promoted       91.5\n",
       "Promoted            8.5"
      ]
     },
     "metadata": {},
     "output_type": "display_data"
    }
   ],
   "source": [
    "# Imbalanced data\n",
    "print(\"Proportion :\")\n",
    "temp = round((pd.crosstab(data[\"is_promoted\"], columns = \"Count (%)\", normalize = \"columns\") * 100), 1)\n",
    "temp.columns.name = \"\"\n",
    "temp.index.name = \"Promotion Decision\"\n",
    "temp.index = [\"Not Promoted\", \"Promoted\"]\n",
    "display(temp)"
   ]
  },
  {
   "cell_type": "markdown",
   "metadata": {
    "id": "604e6gnWUfnP"
   },
   "source": [
    "As stated in the beginning, this dataset is **very imbalance**. We only have 8,5% of promoted employees, and that's not gonna be enough for the machine. Hence, we must handle it. "
   ]
  },
  {
   "cell_type": "markdown",
   "metadata": {
    "id": "ot42OppEVJ4h"
   },
   "source": [
    "**Handling imbalanced data**\n",
    "\n",
    "We will use 3 approaches:\n",
    "- Using **specific weight** parameter\n",
    "- Random Over Sampling\n",
    "- SMOTE\n",
    "\n",
    "On each algorithm, we will try to apply each approach (weight parameter is exception for certain algorithms) and see which approach generates the best result.\n",
    "\n",
    "**WEIGHT PARAMETER APPROACH WILL BE USED IN TUNED MODEL SECTION**"
   ]
  },
  {
   "cell_type": "code",
   "execution_count": 1180,
   "metadata": {
    "code_folding": [
     0
    ],
    "id": "BIpTxnlxcjDQ"
   },
   "outputs": [],
   "source": [
    "# Splitting Data\n",
    "X = data.drop(\"is_promoted\", 1)\n",
    "y = data[\"is_promoted\"]\n",
    "\n",
    "X_train, X_test, y_train, y_test = train_test_split(X, y, stratify = y, test_size = 0.3, random_state = 7)"
   ]
  },
  {
   "cell_type": "code",
   "execution_count": 1181,
   "metadata": {
    "code_folding": [
     0
    ],
    "colab": {
     "base_uri": "https://localhost:8080/",
     "height": 125
    },
    "id": "Hrfkogh9aS7A",
    "outputId": "03095a05-901b-4d54-84f2-9957498c87a0"
   },
   "outputs": [
    {
     "name": "stdout",
     "output_type": "stream",
     "text": [
      "Oversampled data :\n"
     ]
    },
    {
     "data": {
      "text/html": [
       "<div>\n",
       "<style scoped>\n",
       "    .dataframe tbody tr th:only-of-type {\n",
       "        vertical-align: middle;\n",
       "    }\n",
       "\n",
       "    .dataframe tbody tr th {\n",
       "        vertical-align: top;\n",
       "    }\n",
       "\n",
       "    .dataframe thead th {\n",
       "        text-align: right;\n",
       "    }\n",
       "</style>\n",
       "<table border=\"1\" class=\"dataframe\">\n",
       "  <thead>\n",
       "    <tr style=\"text-align: right;\">\n",
       "      <th></th>\n",
       "      <th>Count (%)</th>\n",
       "    </tr>\n",
       "  </thead>\n",
       "  <tbody>\n",
       "    <tr>\n",
       "      <th>Not Promoted</th>\n",
       "      <td>50.0</td>\n",
       "    </tr>\n",
       "    <tr>\n",
       "      <th>Promoted</th>\n",
       "      <td>50.0</td>\n",
       "    </tr>\n",
       "  </tbody>\n",
       "</table>\n",
       "</div>"
      ],
      "text/plain": [
       "              Count (%)\n",
       "Not Promoted       50.0\n",
       "Promoted           50.0"
      ]
     },
     "metadata": {},
     "output_type": "display_data"
    }
   ],
   "source": [
    "# Random Over Sampling\n",
    "trainData = pd.concat([X_train, y_train], axis = 1)\n",
    "notPromoted, promoted = trainData[trainData[\"is_promoted\"] == 0], trainData[trainData[\"is_promoted\"] == 1]\n",
    "promoted = resample(promoted, replace = True, n_samples = len(notPromoted), random_state = 7)\n",
    "dataROS = pd.concat([notPromoted, promoted])\n",
    "X_train_ROS, y_train_ROS = dataROS.drop(\"is_promoted\", 1), dataROS[\"is_promoted\"]\n",
    "\n",
    "print(\"Oversampled data :\")\n",
    "temp = round((pd.crosstab(dataROS[\"is_promoted\"], columns = \"Count (%)\", normalize = \"columns\") * 100), 1)\n",
    "temp.columns.name = \"\"\n",
    "temp.index.name = \"Promotion Decision\"\n",
    "temp.index = [\"Not Promoted\", \"Promoted\"]\n",
    "display(temp)"
   ]
  },
  {
   "cell_type": "code",
   "execution_count": 1182,
   "metadata": {
    "code_folding": [
     0
    ],
    "colab": {
     "base_uri": "https://localhost:8080/",
     "height": 155
    },
    "id": "DNnv0YfRbpIA",
    "outputId": "f82a2d53-6357-4826-9b95-26f95a995a48"
   },
   "outputs": [
    {
     "name": "stdout",
     "output_type": "stream",
     "text": [
      "SMOTE data :\n"
     ]
    },
    {
     "data": {
      "text/html": [
       "<div>\n",
       "<style scoped>\n",
       "    .dataframe tbody tr th:only-of-type {\n",
       "        vertical-align: middle;\n",
       "    }\n",
       "\n",
       "    .dataframe tbody tr th {\n",
       "        vertical-align: top;\n",
       "    }\n",
       "\n",
       "    .dataframe thead th {\n",
       "        text-align: right;\n",
       "    }\n",
       "</style>\n",
       "<table border=\"1\" class=\"dataframe\">\n",
       "  <thead>\n",
       "    <tr style=\"text-align: right;\">\n",
       "      <th></th>\n",
       "      <th>Count (%)</th>\n",
       "    </tr>\n",
       "    <tr>\n",
       "      <th>Promotion Decision</th>\n",
       "      <th></th>\n",
       "    </tr>\n",
       "  </thead>\n",
       "  <tbody>\n",
       "    <tr>\n",
       "      <th>Not Promoted</th>\n",
       "      <td>50.0</td>\n",
       "    </tr>\n",
       "    <tr>\n",
       "      <th>Promoted</th>\n",
       "      <td>50.0</td>\n",
       "    </tr>\n",
       "  </tbody>\n",
       "</table>\n",
       "</div>"
      ],
      "text/plain": [
       "                    Count (%)\n",
       "Promotion Decision           \n",
       "Not Promoted             50.0\n",
       "Promoted                 50.0"
      ]
     },
     "metadata": {},
     "output_type": "display_data"
    }
   ],
   "source": [
    "# SMOTE\n",
    "X_train_SMOTE, y_train_SMOTE = SMOTE(random_state = 7).fit_sample(X_train, y_train)\n",
    "\n",
    "print(\"SMOTE data :\")\n",
    "temp = Counter(y_train_SMOTE)\n",
    "temp = pd.DataFrame([(temp[0] / (temp[0] + temp[1])) * 100, (temp[1] / (temp[0] + temp[1])) * 100], columns = [\"Count (%)\"], index = [\"Not Promoted\", \"Promoted\"])\n",
    "temp.index.name = \"Promotion Decision\"\n",
    "display(temp)"
   ]
  },
  {
   "cell_type": "code",
   "execution_count": 1183,
   "metadata": {
    "code_folding": [
     0
    ],
    "id": "boIKh1Rb77Y2"
   },
   "outputs": [],
   "source": [
    "# For plotting purpose\n",
    "def plotConMat(name, model, trainX, testX, trainy, testy):\n",
    "    fig, ax = plt.subplots(nrows = 1, ncols = 2, figsize=(15, 6))\n",
    "  \n",
    "    conMat = plot_confusion_matrix(model, trainX, trainy, cmap = \"YlOrRd\", values_format = \"g\", ax = ax[0], normalize = \"true\")\n",
    "    conMat.ax_.set_yticklabels(\n",
    "      (\"Not Promoted\", \"Promoted\"),\n",
    "      fontdict = {\n",
    "          \"verticalalignment\": \"center\",\n",
    "          \"rotation\" : 90\n",
    "          }\n",
    "        )\n",
    "    ax[0].set_xticklabels(\n",
    "      (\"Not Promoted\", \"Promoted\"),\n",
    "      fontdict = {\n",
    "          \"horizontalalignment\": \"center\",\n",
    "          }\n",
    "        )\n",
    "    ax[0].set_xlabel(\n",
    "      \"Predicted Label\",\n",
    "      fontdict = {\n",
    "          \"weight\" : \"bold\"\n",
    "          }\n",
    "        )\n",
    "    ax[0].set_ylabel(\n",
    "      \"True Label\",\n",
    "      fontdict = {\n",
    "          \"weight\" : \"bold\"\n",
    "          }\n",
    "        )\n",
    "    conMat.ax_.set_title(\n",
    "      name + \" (Train)\",\n",
    "      fontdict = {\n",
    "          \"weight\" : \"bold\",\n",
    "          \"size\" : 14,\n",
    "          \"horizontalalignment\" : \"center\"\n",
    "          }, y = 1.05)\n",
    "\n",
    "    conMat = plot_confusion_matrix(model, testX, testy, cmap = \"YlOrRd\", values_format = \"g\", ax = ax[1], normalize = \"true\")\n",
    "    conMat.ax_.set_yticklabels(\n",
    "      (\"Not Promoted\", \"Promoted\"),\n",
    "      fontdict = {\n",
    "          \"verticalalignment\": \"center\",\n",
    "          \"rotation\" : 90\n",
    "          }\n",
    "        )\n",
    "    ax[1].set_xticklabels(\n",
    "      (\"Not Promoted\", \"Promoted\"),\n",
    "      fontdict = {\n",
    "          \"horizontalalignment\": \"center\",\n",
    "          }\n",
    "        )\n",
    "    ax[1].set_xlabel(\n",
    "      \"Predicted Label\",\n",
    "      fontdict = {\n",
    "          \"weight\" : \"bold\"\n",
    "          }\n",
    "        )\n",
    "    ax[1].set_ylabel(\n",
    "      \"True Label\",\n",
    "      fontdict = {\n",
    "          \"weight\" : \"bold\"\n",
    "          }\n",
    "        )\n",
    "    conMat.ax_.set_title(\n",
    "      name + \" (Test)\",\n",
    "      fontdict = {\n",
    "          \"weight\" : \"bold\",\n",
    "          \"size\" : 14,\n",
    "          \"horizontalalignment\" : \"center\"\n",
    "          }, y = 1.05)\n",
    "\n",
    "    plt.tight_layout(pad = 8)\n",
    "    plt.show()  "
   ]
  },
  {
   "cell_type": "markdown",
   "metadata": {
    "id": "K-PPCtfjXnw2"
   },
   "source": [
    "## Base Model\n",
    "Base Model is used for brief overview of algorithms' capability and performance in predicting the data."
   ]
  },
  {
   "cell_type": "markdown",
   "metadata": {
    "id": "WIEHe91CZq_2"
   },
   "source": [
    "### Random Forest Classifier"
   ]
  },
  {
   "cell_type": "code",
   "execution_count": 1184,
   "metadata": {
    "code_folding": [
     0
    ],
    "colab": {
     "base_uri": "https://localhost:8080/",
     "height": 417
    },
    "id": "CCZJensQlqd_",
    "outputId": "9ea1ba99-a1c2-4d89-e954-cd6252300fad"
   },
   "outputs": [
    {
     "name": "stdout",
     "output_type": "stream",
     "text": [
      "Base Random Forest ROS\n"
     ]
    },
    {
     "data": {
      "image/png": "[encoded data removed]",
      "text/plain": [
       "<Figure size 1080x432 with 4 Axes>"
      ]
     },
     "metadata": {
      "needs_background": "light"
     },
     "output_type": "display_data"
    },
    {
     "name": "stdout",
     "output_type": "stream",
     "text": [
      "\n",
      "Positive Recall Score Train vs Test :\n"
     ]
    },
    {
     "data": {
      "text/html": [
       "<div>\n",
       "<style scoped>\n",
       "    .dataframe tbody tr th:only-of-type {\n",
       "        vertical-align: middle;\n",
       "    }\n",
       "\n",
       "    .dataframe tbody tr th {\n",
       "        vertical-align: top;\n",
       "    }\n",
       "\n",
       "    .dataframe thead th {\n",
       "        text-align: right;\n",
       "    }\n",
       "</style>\n",
       "<table border=\"1\" class=\"dataframe\">\n",
       "  <thead>\n",
       "    <tr style=\"text-align: right;\">\n",
       "      <th></th>\n",
       "      <th>Positive Train Recall Score</th>\n",
       "      <th>Positive Test Recall Score</th>\n",
       "    </tr>\n",
       "  </thead>\n",
       "  <tbody>\n",
       "    <tr>\n",
       "      <th>Base Random Forest ROS</th>\n",
       "      <td>0.922016</td>\n",
       "      <td>0.740714</td>\n",
       "    </tr>\n",
       "  </tbody>\n",
       "</table>\n",
       "</div>"
      ],
      "text/plain": [
       "                        Positive Train Recall Score  \\\n",
       "Base Random Forest ROS                     0.922016   \n",
       "\n",
       "                        Positive Test Recall Score  \n",
       "Base Random Forest ROS                    0.740714  "
      ]
     },
     "metadata": {},
     "output_type": "display_data"
    }
   ],
   "source": [
    "# Using oversampled data\n",
    "name = input()\n",
    "RanFor = RandomForestClassifier().fit(X_train_ROS, y_train_ROS)\n",
    "RF_OStrainPred = RanFor.predict(X_train_ROS)\n",
    "RF_OStestPred = RanFor.predict(X_test)\n",
    "\n",
    "recallScore = pd.DataFrame({\n",
    "    \"Positive Train Recall Score\" : recall_score(y_train_ROS, RF_OStrainPred),\n",
    "    \"Positive Test Recall Score\" : recall_score(y_test, RF_OStestPred)\n",
    "}, index = [name])\n",
    "\n",
    "plotConMat(name, RanFor, X_train_ROS, X_test, y_train_ROS, y_test)\n",
    "\n",
    "print(\"\\nPositive Recall Score Train vs Test :\")\n",
    "display(recallScore)"
   ]
  },
  {
   "cell_type": "code",
   "execution_count": 1185,
   "metadata": {
    "code_folding": [
     0
    ]
   },
   "outputs": [
    {
     "name": "stdout",
     "output_type": "stream",
     "text": [
      "Base Random Forest SMOTE\n"
     ]
    },
    {
     "data": {
      "image/png": "[encoded data removed]",
      "text/plain": [
       "<Figure size 1080x432 with 4 Axes>"
      ]
     },
     "metadata": {
      "needs_background": "light"
     },
     "output_type": "display_data"
    },
    {
     "name": "stdout",
     "output_type": "stream",
     "text": [
      "\n",
      "Positive Recall Score Train vs Test :\n"
     ]
    },
    {
     "data": {
      "text/html": [
       "<div>\n",
       "<style scoped>\n",
       "    .dataframe tbody tr th:only-of-type {\n",
       "        vertical-align: middle;\n",
       "    }\n",
       "\n",
       "    .dataframe tbody tr th {\n",
       "        vertical-align: top;\n",
       "    }\n",
       "\n",
       "    .dataframe thead th {\n",
       "        text-align: right;\n",
       "    }\n",
       "</style>\n",
       "<table border=\"1\" class=\"dataframe\">\n",
       "  <thead>\n",
       "    <tr style=\"text-align: right;\">\n",
       "      <th></th>\n",
       "      <th>Positive Train Recall Score</th>\n",
       "      <th>Positive Test Recall Score</th>\n",
       "    </tr>\n",
       "  </thead>\n",
       "  <tbody>\n",
       "    <tr>\n",
       "      <th>Base Random Forest ROS</th>\n",
       "      <td>0.922016</td>\n",
       "      <td>0.740714</td>\n",
       "    </tr>\n",
       "    <tr>\n",
       "      <th>Base Random Forest SMOTE</th>\n",
       "      <td>0.913468</td>\n",
       "      <td>0.712857</td>\n",
       "    </tr>\n",
       "  </tbody>\n",
       "</table>\n",
       "</div>"
      ],
      "text/plain": [
       "                          Positive Train Recall Score  \\\n",
       "Base Random Forest ROS                       0.922016   \n",
       "Base Random Forest SMOTE                     0.913468   \n",
       "\n",
       "                          Positive Test Recall Score  \n",
       "Base Random Forest ROS                      0.740714  \n",
       "Base Random Forest SMOTE                    0.712857  "
      ]
     },
     "metadata": {},
     "output_type": "display_data"
    }
   ],
   "source": [
    "# Using SMOTE data\n",
    "name = input()\n",
    "RanFor = RandomForestClassifier().fit(X_train_SMOTE, y_train_SMOTE)\n",
    "RF_SMOTEtrainPred = RanFor.predict(X_train_SMOTE)\n",
    "RF_SMOTEtestPred = RanFor.predict(X_test)\n",
    "\n",
    "recallScore.loc[name] = [recall_score(y_train_SMOTE, RF_SMOTEtrainPred), recall_score(y_test, RF_SMOTEtestPred)]\n",
    "\n",
    "plotConMat(name, RanFor, X_train_SMOTE, X_test, y_train_SMOTE, y_test)\n",
    "\n",
    "print(\"\\nPositive Recall Score Train vs Test :\")\n",
    "display(recallScore)"
   ]
  },
  {
   "cell_type": "markdown",
   "metadata": {
    "id": "YsnQqaPAXGYD"
   },
   "source": [
    "**PLEASE NOTE THAT THE CONFUSION MATRIX IS NORMALIZED TO ROW / TRUE**\n",
    "\n",
    "ROS method provides better score, where both train and test data are higher than SMOTE's."
   ]
  },
  {
   "cell_type": "markdown",
   "metadata": {
    "id": "uuf27Ss24vrJ"
   },
   "source": [
    "**In this context, our main goal is to reduce FN error rate as much as we can. If the machine suggests HR team to not promote a decent employee (FN), then there's 3 possible scenarios that could happen:**\n",
    "- Loss of talent opportunity. Management fails to find someone that they could rely on bigger responsibility and workload.\n",
    "- As a result, work performance and motivation of the decent employee decreases (refer to **business problem section**).\n",
    "- Drops of monthly (or weekly) workload that the decent employee could handle and also the work results could lead to loss of profit. As stated before, this company is most likely a client-based company. Imagine if decent employee(s) aren't motivated anymore because of not getting promoted for certain time, then reports or projects that they supposed to handle will neglected. Deadline wouldn't be met, clients trust and satisfaction will decrease, and in the end they lower the number of requests (lower income for the company).\n",
    "- At the worst case, this unfair decision could alter a good into toxic working environment because of the employee's behaviour (spreading hate speech and complaint to his fellow workers), especially if he knew his skill and work quality is definitely higher and better than the incapable promoted employee. This is of course not good for the management.\n",
    "\n",
    "**On the other hand, company would lose nothing if the machine suggests HR team to promote an inappropriate employee (FP).** The inappropriate employee sure can learn and develop along the given time. He can increase his practical and non practical skill slowly. Haryono (2013) and other reasearcher in it also say so, where promoted employee (either he is decent or not) will gain more work motivation and satisfaction. In reality, this imbalanced idealism is rarely affect work results. Even if the boss / leader is not capable of his new responsibility, they usually and most likely will hand over the work to the subordinates. Therefore, work results is still determined by the quality of his subordinates.\n",
    "\n",
    "Hence, we will only focus to **positive recall score**"
   ]
  },
  {
   "cell_type": "markdown",
   "metadata": {
    "id": "uiFx6KA_C5pN"
   },
   "source": [
    "### Logistic Regression"
   ]
  },
  {
   "cell_type": "code",
   "execution_count": 1186,
   "metadata": {
    "code_folding": [
     0
    ],
    "colab": {
     "base_uri": "https://localhost:8080/",
     "height": 477
    },
    "id": "rw6I3g3VDEee",
    "outputId": "9a0730ca-96b7-4805-cda2-437d07ad2fa4"
   },
   "outputs": [
    {
     "name": "stdout",
     "output_type": "stream",
     "text": [
      "Base Logistic Regression ROS\n"
     ]
    },
    {
     "data": {
      "image/png": "[encoded data removed]",
      "text/plain": [
       "<Figure size 1080x432 with 4 Axes>"
      ]
     },
     "metadata": {
      "needs_background": "light"
     },
     "output_type": "display_data"
    },
    {
     "name": "stdout",
     "output_type": "stream",
     "text": [
      "\n",
      "Positive Recall Score Train vs Test :\n"
     ]
    },
    {
     "data": {
      "text/html": [
       "<div>\n",
       "<style scoped>\n",
       "    .dataframe tbody tr th:only-of-type {\n",
       "        vertical-align: middle;\n",
       "    }\n",
       "\n",
       "    .dataframe tbody tr th {\n",
       "        vertical-align: top;\n",
       "    }\n",
       "\n",
       "    .dataframe thead th {\n",
       "        text-align: right;\n",
       "    }\n",
       "</style>\n",
       "<table border=\"1\" class=\"dataframe\">\n",
       "  <thead>\n",
       "    <tr style=\"text-align: right;\">\n",
       "      <th></th>\n",
       "      <th>Positive Train Recall Score</th>\n",
       "      <th>Positive Test Recall Score</th>\n",
       "    </tr>\n",
       "  </thead>\n",
       "  <tbody>\n",
       "    <tr>\n",
       "      <th>Base Random Forest ROS</th>\n",
       "      <td>0.922016</td>\n",
       "      <td>0.740714</td>\n",
       "    </tr>\n",
       "    <tr>\n",
       "      <th>Base Random Forest SMOTE</th>\n",
       "      <td>0.913468</td>\n",
       "      <td>0.712857</td>\n",
       "    </tr>\n",
       "    <tr>\n",
       "      <th>Base Logistic Regression ROS</th>\n",
       "      <td>0.751802</td>\n",
       "      <td>0.753571</td>\n",
       "    </tr>\n",
       "  </tbody>\n",
       "</table>\n",
       "</div>"
      ],
      "text/plain": [
       "                              Positive Train Recall Score  \\\n",
       "Base Random Forest ROS                           0.922016   \n",
       "Base Random Forest SMOTE                         0.913468   \n",
       "Base Logistic Regression ROS                     0.751802   \n",
       "\n",
       "                              Positive Test Recall Score  \n",
       "Base Random Forest ROS                          0.740714  \n",
       "Base Random Forest SMOTE                        0.712857  \n",
       "Base Logistic Regression ROS                    0.753571  "
      ]
     },
     "metadata": {},
     "output_type": "display_data"
    }
   ],
   "source": [
    "# Using oversampled data\n",
    "name = input()\n",
    "LogReg = LogisticRegression().fit(X_train_ROS, y_train_ROS)\n",
    "LG_ROStrainPred = LogReg.predict(X_train_ROS)\n",
    "LG_ROStestPred = LogReg.predict(X_test)\n",
    "\n",
    "recallScore.loc[name] = [recall_score(y_train_ROS, LG_ROStrainPred), recall_score(y_test, LG_ROStestPred)]\n",
    "\n",
    "plotConMat(name, LogReg, X_train_ROS, X_test, y_train_ROS, y_test)\n",
    "\n",
    "print(\"\\nPositive Recall Score Train vs Test :\")\n",
    "display(recallScore)"
   ]
  },
  {
   "cell_type": "code",
   "execution_count": 1187,
   "metadata": {
    "code_folding": [
     0
    ],
    "colab": {
     "base_uri": "https://localhost:8080/",
     "height": 507
    },
    "id": "m6OI9txzEkq0",
    "outputId": "5276372c-0b95-42c2-82ce-880708f98196"
   },
   "outputs": [
    {
     "name": "stdout",
     "output_type": "stream",
     "text": [
      "Base Logistic Regression SMOTE\n"
     ]
    },
    {
     "data": {
      "image/png": "[encoded data removed]",
      "text/plain": [
       "<Figure size 1080x432 with 4 Axes>"
      ]
     },
     "metadata": {
      "needs_background": "light"
     },
     "output_type": "display_data"
    },
    {
     "name": "stdout",
     "output_type": "stream",
     "text": [
      "\n",
      "Positive Recall Score Train vs Test :\n"
     ]
    },
    {
     "data": {
      "text/html": [
       "<div>\n",
       "<style scoped>\n",
       "    .dataframe tbody tr th:only-of-type {\n",
       "        vertical-align: middle;\n",
       "    }\n",
       "\n",
       "    .dataframe tbody tr th {\n",
       "        vertical-align: top;\n",
       "    }\n",
       "\n",
       "    .dataframe thead th {\n",
       "        text-align: right;\n",
       "    }\n",
       "</style>\n",
       "<table border=\"1\" class=\"dataframe\">\n",
       "  <thead>\n",
       "    <tr style=\"text-align: right;\">\n",
       "      <th></th>\n",
       "      <th>Positive Train Recall Score</th>\n",
       "      <th>Positive Test Recall Score</th>\n",
       "    </tr>\n",
       "  </thead>\n",
       "  <tbody>\n",
       "    <tr>\n",
       "      <th>Base Random Forest ROS</th>\n",
       "      <td>0.922016</td>\n",
       "      <td>0.740714</td>\n",
       "    </tr>\n",
       "    <tr>\n",
       "      <th>Base Random Forest SMOTE</th>\n",
       "      <td>0.913468</td>\n",
       "      <td>0.712857</td>\n",
       "    </tr>\n",
       "    <tr>\n",
       "      <th>Base Logistic Regression ROS</th>\n",
       "      <td>0.751802</td>\n",
       "      <td>0.753571</td>\n",
       "    </tr>\n",
       "    <tr>\n",
       "      <th>Base Logistic Regression SMOTE</th>\n",
       "      <td>0.767558</td>\n",
       "      <td>0.775000</td>\n",
       "    </tr>\n",
       "  </tbody>\n",
       "</table>\n",
       "</div>"
      ],
      "text/plain": [
       "                                Positive Train Recall Score  \\\n",
       "Base Random Forest ROS                             0.922016   \n",
       "Base Random Forest SMOTE                           0.913468   \n",
       "Base Logistic Regression ROS                       0.751802   \n",
       "Base Logistic Regression SMOTE                     0.767558   \n",
       "\n",
       "                                Positive Test Recall Score  \n",
       "Base Random Forest ROS                            0.740714  \n",
       "Base Random Forest SMOTE                          0.712857  \n",
       "Base Logistic Regression ROS                      0.753571  \n",
       "Base Logistic Regression SMOTE                    0.775000  "
      ]
     },
     "metadata": {},
     "output_type": "display_data"
    }
   ],
   "source": [
    "# Using SMOTE data\n",
    "name = input()\n",
    "LogReg = LogisticRegression().fit(X_train_SMOTE, y_train_SMOTE)\n",
    "LG_SMOTEtrainPred = LogReg.predict(X_train_SMOTE)\n",
    "LG_SMOTEtestPred = LogReg.predict(X_test)\n",
    "\n",
    "recallScore.loc[name] = [recall_score(y_train_SMOTE, LG_SMOTEtrainPred), recall_score(y_test, LG_SMOTEtestPred)]\n",
    "\n",
    "plotConMat(name, LogReg, X_train_SMOTE, X_test, y_train_SMOTE, y_test)\n",
    "\n",
    "print(\"\\nPositive Recall Score Train vs Test :\")\n",
    "display(recallScore)"
   ]
  },
  {
   "cell_type": "markdown",
   "metadata": {
    "id": "3mA6NDbFJUIs"
   },
   "source": [
    "Meanwhile, SMOTE performs better in Logistic Regression."
   ]
  },
  {
   "cell_type": "markdown",
   "metadata": {
    "id": "MEwHXe8HWUfH"
   },
   "source": [
    "### XGB Classifier"
   ]
  },
  {
   "cell_type": "code",
   "execution_count": 1188,
   "metadata": {
    "code_folding": [
     0
    ],
    "colab": {
     "base_uri": "https://localhost:8080/",
     "height": 657
    },
    "id": "E1qtWqT0WXfT",
    "outputId": "a777fa29-1d7c-43fc-d89c-f68e96c30247"
   },
   "outputs": [
    {
     "name": "stdout",
     "output_type": "stream",
     "text": [
      "Base XGBoost ROS\n"
     ]
    },
    {
     "data": {
      "image/png": "[encoded data removed]",
      "text/plain": [
       "<Figure size 1080x432 with 4 Axes>"
      ]
     },
     "metadata": {
      "needs_background": "light"
     },
     "output_type": "display_data"
    },
    {
     "name": "stdout",
     "output_type": "stream",
     "text": [
      "\n",
      "Positive Recall Score Train vs Test :\n"
     ]
    },
    {
     "data": {
      "text/html": [
       "<div>\n",
       "<style scoped>\n",
       "    .dataframe tbody tr th:only-of-type {\n",
       "        vertical-align: middle;\n",
       "    }\n",
       "\n",
       "    .dataframe tbody tr th {\n",
       "        vertical-align: top;\n",
       "    }\n",
       "\n",
       "    .dataframe thead th {\n",
       "        text-align: right;\n",
       "    }\n",
       "</style>\n",
       "<table border=\"1\" class=\"dataframe\">\n",
       "  <thead>\n",
       "    <tr style=\"text-align: right;\">\n",
       "      <th></th>\n",
       "      <th>Positive Train Recall Score</th>\n",
       "      <th>Positive Test Recall Score</th>\n",
       "    </tr>\n",
       "  </thead>\n",
       "  <tbody>\n",
       "    <tr>\n",
       "      <th>Base Random Forest ROS</th>\n",
       "      <td>0.922016</td>\n",
       "      <td>0.740714</td>\n",
       "    </tr>\n",
       "    <tr>\n",
       "      <th>Base Random Forest SMOTE</th>\n",
       "      <td>0.913468</td>\n",
       "      <td>0.712857</td>\n",
       "    </tr>\n",
       "    <tr>\n",
       "      <th>Base Logistic Regression ROS</th>\n",
       "      <td>0.751802</td>\n",
       "      <td>0.753571</td>\n",
       "    </tr>\n",
       "    <tr>\n",
       "      <th>Base Logistic Regression SMOTE</th>\n",
       "      <td>0.767558</td>\n",
       "      <td>0.775000</td>\n",
       "    </tr>\n",
       "    <tr>\n",
       "      <th>Base XGBoost ROS</th>\n",
       "      <td>0.918198</td>\n",
       "      <td>0.845000</td>\n",
       "    </tr>\n",
       "  </tbody>\n",
       "</table>\n",
       "</div>"
      ],
      "text/plain": [
       "                                Positive Train Recall Score  \\\n",
       "Base Random Forest ROS                             0.922016   \n",
       "Base Random Forest SMOTE                           0.913468   \n",
       "Base Logistic Regression ROS                       0.751802   \n",
       "Base Logistic Regression SMOTE                     0.767558   \n",
       "Base XGBoost ROS                                   0.918198   \n",
       "\n",
       "                                Positive Test Recall Score  \n",
       "Base Random Forest ROS                            0.740714  \n",
       "Base Random Forest SMOTE                          0.712857  \n",
       "Base Logistic Regression ROS                      0.753571  \n",
       "Base Logistic Regression SMOTE                    0.775000  \n",
       "Base XGBoost ROS                                  0.845000  "
      ]
     },
     "metadata": {},
     "output_type": "display_data"
    }
   ],
   "source": [
    "# Using oversampled data\n",
    "name = input()\n",
    "XGB = XGBClassifier().fit(X_train_ROS, y_train_ROS)\n",
    "XGB_ROStrainPred = XGB.predict(X_train_ROS)\n",
    "XGB_ROStestPred = XGB.predict(X_test)\n",
    "\n",
    "recallScore.loc[name] = [recall_score(y_train_ROS, XGB_ROStrainPred), recall_score(y_test, XGB_ROStestPred)]\n",
    "\n",
    "plotConMat(name, XGB, X_train_ROS, X_test, y_train_ROS, y_test)\n",
    "\n",
    "print(\"\\nPositive Recall Score Train vs Test :\")\n",
    "display(recallScore)"
   ]
  },
  {
   "cell_type": "code",
   "execution_count": 1189,
   "metadata": {
    "code_folding": [
     0
    ],
    "colab": {
     "base_uri": "https://localhost:8080/",
     "height": 687
    },
    "id": "3RGWvg_oX1wF",
    "outputId": "dafb6c30-c275-47c0-d05b-11178e9d27de"
   },
   "outputs": [
    {
     "name": "stdout",
     "output_type": "stream",
     "text": [
      "Base XGBoost SMOTE\n"
     ]
    },
    {
     "data": {
      "image/png": "[encoded data removed]",
      "text/plain": [
       "<Figure size 1080x432 with 4 Axes>"
      ]
     },
     "metadata": {
      "needs_background": "light"
     },
     "output_type": "display_data"
    },
    {
     "name": "stdout",
     "output_type": "stream",
     "text": [
      "\n",
      "Positive Recall Score Train vs Test :\n"
     ]
    },
    {
     "data": {
      "text/html": [
       "<div>\n",
       "<style scoped>\n",
       "    .dataframe tbody tr th:only-of-type {\n",
       "        vertical-align: middle;\n",
       "    }\n",
       "\n",
       "    .dataframe tbody tr th {\n",
       "        vertical-align: top;\n",
       "    }\n",
       "\n",
       "    .dataframe thead th {\n",
       "        text-align: right;\n",
       "    }\n",
       "</style>\n",
       "<table border=\"1\" class=\"dataframe\">\n",
       "  <thead>\n",
       "    <tr style=\"text-align: right;\">\n",
       "      <th></th>\n",
       "      <th>Positive Train Recall Score</th>\n",
       "      <th>Positive Test Recall Score</th>\n",
       "    </tr>\n",
       "  </thead>\n",
       "  <tbody>\n",
       "    <tr>\n",
       "      <th>Base Random Forest ROS</th>\n",
       "      <td>0.922016</td>\n",
       "      <td>0.740714</td>\n",
       "    </tr>\n",
       "    <tr>\n",
       "      <th>Base Random Forest SMOTE</th>\n",
       "      <td>0.913468</td>\n",
       "      <td>0.712857</td>\n",
       "    </tr>\n",
       "    <tr>\n",
       "      <th>Base Logistic Regression ROS</th>\n",
       "      <td>0.751802</td>\n",
       "      <td>0.753571</td>\n",
       "    </tr>\n",
       "    <tr>\n",
       "      <th>Base Logistic Regression SMOTE</th>\n",
       "      <td>0.767558</td>\n",
       "      <td>0.775000</td>\n",
       "    </tr>\n",
       "    <tr>\n",
       "      <th>Base XGBoost ROS</th>\n",
       "      <td>0.918198</td>\n",
       "      <td>0.845000</td>\n",
       "    </tr>\n",
       "    <tr>\n",
       "      <th>Base XGBoost SMOTE</th>\n",
       "      <td>0.904351</td>\n",
       "      <td>0.781429</td>\n",
       "    </tr>\n",
       "  </tbody>\n",
       "</table>\n",
       "</div>"
      ],
      "text/plain": [
       "                                Positive Train Recall Score  \\\n",
       "Base Random Forest ROS                             0.922016   \n",
       "Base Random Forest SMOTE                           0.913468   \n",
       "Base Logistic Regression ROS                       0.751802   \n",
       "Base Logistic Regression SMOTE                     0.767558   \n",
       "Base XGBoost ROS                                   0.918198   \n",
       "Base XGBoost SMOTE                                 0.904351   \n",
       "\n",
       "                                Positive Test Recall Score  \n",
       "Base Random Forest ROS                            0.740714  \n",
       "Base Random Forest SMOTE                          0.712857  \n",
       "Base Logistic Regression ROS                      0.753571  \n",
       "Base Logistic Regression SMOTE                    0.775000  \n",
       "Base XGBoost ROS                                  0.845000  \n",
       "Base XGBoost SMOTE                                0.781429  "
      ]
     },
     "metadata": {},
     "output_type": "display_data"
    }
   ],
   "source": [
    "# Using SMOTE data\n",
    "name = input()\n",
    "XGB = XGBClassifier().fit(X_train_SMOTE, y_train_SMOTE)\n",
    "XGB_SMOTEtrainPred = XGB.predict(X_train_SMOTE)\n",
    "XGB_SMOTEtestPred = XGB.predict(X_test)\n",
    "\n",
    "recallScore.loc[name] = [recall_score(y_train_SMOTE, XGB_SMOTEtrainPred), recall_score(y_test, XGB_SMOTEtestPred)]\n",
    "\n",
    "plotConMat(name, XGB, X_train_SMOTE, X_test, y_train_SMOTE, y_test)\n",
    "\n",
    "print(\"\\nPositive Recall Score Train vs Test :\")\n",
    "display(recallScore)"
   ]
  },
  {
   "cell_type": "markdown",
   "metadata": {
    "id": "04yUO5YmZCh1"
   },
   "source": [
    "XGB with ROS approach is the best base model so far. It has the highest recall score and thus the lower FN rate, **only less than 2% error in predicting decent employees to be promoted**."
   ]
  },
  {
   "cell_type": "markdown",
   "metadata": {
    "id": "4ekTCtIgZcY4"
   },
   "source": [
    "## Tuned Model\n",
    "We will maximize each three models and seek out for the winner. But, before we jump in to tuning and hyper parameter tuning, we will start this section by applying weight parameter as the last imbalanced data approach."
   ]
  },
  {
   "cell_type": "markdown",
   "metadata": {
    "id": "truvr2b12qxE"
   },
   "source": [
    "### Random Forest Classifier"
   ]
  },
  {
   "cell_type": "markdown",
   "metadata": {
    "id": "oFtRbXmQ2uz5"
   },
   "source": [
    "**Class weight**"
   ]
  },
  {
   "cell_type": "code",
   "execution_count": 1250,
   "metadata": {
    "code_folding": [
     0
    ],
    "colab": {
     "base_uri": "https://localhost:8080/",
     "height": 417
    },
    "id": "MsU6M3q42suS",
    "outputId": "90cc63c0-d1b4-46b4-a540-6003ac9bb04c"
   },
   "outputs": [
    {
     "name": "stdout",
     "output_type": "stream",
     "text": [
      "Weighted Random Forest\n"
     ]
    },
    {
     "data": {
      "image/png": "[encoded data removed]",
      "text/plain": [
       "<Figure size 1080x432 with 4 Axes>"
      ]
     },
     "metadata": {
      "needs_background": "light"
     },
     "output_type": "display_data"
    },
    {
     "name": "stdout",
     "output_type": "stream",
     "text": [
      "\n",
      "Positive Recall Score Train vs Test :\n"
     ]
    },
    {
     "data": {
      "text/html": [
       "<div>\n",
       "<style scoped>\n",
       "    .dataframe tbody tr th:only-of-type {\n",
       "        vertical-align: middle;\n",
       "    }\n",
       "\n",
       "    .dataframe tbody tr th {\n",
       "        vertical-align: top;\n",
       "    }\n",
       "\n",
       "    .dataframe thead th {\n",
       "        text-align: right;\n",
       "    }\n",
       "</style>\n",
       "<table border=\"1\" class=\"dataframe\">\n",
       "  <thead>\n",
       "    <tr style=\"text-align: right;\">\n",
       "      <th></th>\n",
       "      <th>Positive Train Recall Score</th>\n",
       "      <th>Positive Test Recall Score</th>\n",
       "    </tr>\n",
       "  </thead>\n",
       "  <tbody>\n",
       "    <tr>\n",
       "      <th>Weighted Random Forest</th>\n",
       "      <td>0.929315</td>\n",
       "      <td>0.753571</td>\n",
       "    </tr>\n",
       "  </tbody>\n",
       "</table>\n",
       "</div>"
      ],
      "text/plain": [
       "                        Positive Train Recall Score  \\\n",
       "Weighted Random Forest                     0.929315   \n",
       "\n",
       "                        Positive Test Recall Score  \n",
       "Weighted Random Forest                    0.753571  "
      ]
     },
     "metadata": {},
     "output_type": "display_data"
    }
   ],
   "source": [
    "# Using class_weight parameter\n",
    "name = input()\n",
    "RanFor = RandomForestClassifier(class_weight = {0 : .05, 1 : .95}, random_state = 7).fit(X_train, y_train)\n",
    "RF_wtrainPred = RanFor.predict(X_train)\n",
    "RF_wtestPred = RanFor.predict(X_test)\n",
    "\n",
    "recallScoreTuned = pd.DataFrame({\n",
    "    \"Positive Train Recall Score\" : recall_score(y_train, RF_wtrainPred),\n",
    "    \"Positive Test Recall Score\" : recall_score(y_test, RF_wtestPred)\n",
    "}, index = [name])\n",
    "\n",
    "plotConMat(name, RanFor, X_train, X_test, y_train, y_test)\n",
    "\n",
    "print(\"\\nPositive Recall Score Train vs Test :\")\n",
    "display(recallScoreTuned)"
   ]
  },
  {
   "cell_type": "markdown",
   "metadata": {
    "id": "0baMQi0z5iLC"
   },
   "source": [
    "Since we want to jusf focus on FN, the best class weight is as low as possible for negative class. The best value we can got is **0.5 for not promoted and 0.95 for promoted class**. Frankly, this not the highest score for both train and test because it's still possible to lower negative class weight even more. But, the consequences is recall train score would be very **near to 1 or strong learner**. This weighted train score actually is a strong learner too, but at least not as high as if we lower the weight further. \n",
    "\n",
    "This approach is way better than ROS and thus we'll stick to it. Even though we still got an overfit, we could reduce the score difference in hyper parameter tuning.  "
   ]
  },
  {
   "cell_type": "markdown",
   "metadata": {
    "id": "cR46Cc_J5qdH"
   },
   "source": [
    "**Hyper parameter tuning**"
   ]
  },
  {
   "cell_type": "code",
   "execution_count": 1253,
   "metadata": {
    "code_folding": [
     0
    ],
    "colab": {
     "base_uri": "https://localhost:8080/"
    },
    "collapsed": true,
    "id": "tNlqKJqz-9BS",
    "outputId": "49d3a739-21e1-4d8d-ee0a-1ce0fc7f7145"
   },
   "outputs": [
    {
     "name": "stdout",
     "output_type": "stream",
     "text": [
      "Fitting 3 folds for each of 40 candidates, totalling 120 fits\n"
     ]
    },
    {
     "name": "stderr",
     "output_type": "stream",
     "text": [
      "[Parallel(n_jobs=-1)]: Using backend LokyBackend with 4 concurrent workers.\n",
      "[Parallel(n_jobs=-1)]: Done  42 tasks      | elapsed:   28.1s\n",
      "[Parallel(n_jobs=-1)]: Done 120 out of 120 | elapsed:  1.4min finished\n"
     ]
    },
    {
     "data": {
      "text/plain": [
       "RandomizedSearchCV(cv=3, estimator=RandomForestClassifier(), n_iter=40,\n",
       "                   n_jobs=-1,\n",
       "                   param_distributions={'class_weight': [{0: 0.05, 1: 0.95}],\n",
       "                                        'max_depth': [None, 2, 3, 4, 5, 8, 10],\n",
       "                                        'max_features': ['auto', 0.2, 0.5],\n",
       "                                        'min_impurity_decrease': [0, 0.2, 0.3,\n",
       "                                                                  0.5],\n",
       "                                        'min_samples_leaf': [2, 4, 8, 14, 17,\n",
       "                                                             22, 29, 30],\n",
       "                                        'min_samples_split': [2, 10, 20, 30, 40,\n",
       "                                                              50],\n",
       "                                        'n_estimators': [100, 120, 150, 200,\n",
       "                                                         250, 280, 300],\n",
       "                                        'random_state': [7]},\n",
       "                   verbose=1)"
      ]
     },
     "execution_count": 1253,
     "metadata": {},
     "output_type": "execute_result"
    }
   ],
   "source": [
    "# RandomizedSearchCV\n",
    "RanForTuned = RandomizedSearchCV(\n",
    "    estimator = RandomForestClassifier(),\n",
    "    param_distributions = {\n",
    "        \"n_estimators\" : [100, 120, 150, 200, 250, 280, 300],\n",
    "        \"max_depth\" : [None, 2, 3, 4, 5, 8, 10],\n",
    "        \"min_samples_split\" : [2, 10, 20, 30, 40, 50],\n",
    "        \"min_samples_leaf\" : [2, 4, 8, 14, 17, 22, 29, 30],\n",
    "        \"max_features\" : [\"auto\", .2, .5],\n",
    "        \"min_impurity_decrease\" : [0, 0.2, 0.3, 0.5],\n",
    "        \"class_weight\" : [{0 : .05, 1 : .95}],\n",
    "        \"random_state\" : [7]\n",
    "        }, cv = 3, n_jobs = -1, verbose = 1, n_iter = 40\n",
    "    )\n",
    "\n",
    "RanForTuned.fit(X_train, y_train)"
   ]
  },
  {
   "cell_type": "code",
   "execution_count": 1254,
   "metadata": {
    "code_folding": [
     0
    ]
   },
   "outputs": [
    {
     "name": "stdout",
     "output_type": "stream",
     "text": [
      "Tuned Random Forest\n"
     ]
    },
    {
     "data": {
      "image/png": "[encoded data removed]",
      "text/plain": [
       "<Figure size 1080x432 with 4 Axes>"
      ]
     },
     "metadata": {
      "needs_background": "light"
     },
     "output_type": "display_data"
    },
    {
     "name": "stdout",
     "output_type": "stream",
     "text": [
      "\n",
      "Positive Recall Score Train vs Test :\n"
     ]
    },
    {
     "data": {
      "text/html": [
       "<div>\n",
       "<style scoped>\n",
       "    .dataframe tbody tr th:only-of-type {\n",
       "        vertical-align: middle;\n",
       "    }\n",
       "\n",
       "    .dataframe tbody tr th {\n",
       "        vertical-align: top;\n",
       "    }\n",
       "\n",
       "    .dataframe thead th {\n",
       "        text-align: right;\n",
       "    }\n",
       "</style>\n",
       "<table border=\"1\" class=\"dataframe\">\n",
       "  <thead>\n",
       "    <tr style=\"text-align: right;\">\n",
       "      <th></th>\n",
       "      <th>Positive Train Recall Score</th>\n",
       "      <th>Positive Test Recall Score</th>\n",
       "    </tr>\n",
       "  </thead>\n",
       "  <tbody>\n",
       "    <tr>\n",
       "      <th>Weighted Random Forest</th>\n",
       "      <td>0.929315</td>\n",
       "      <td>0.753571</td>\n",
       "    </tr>\n",
       "    <tr>\n",
       "      <th>Tuned Random Forest</th>\n",
       "      <td>0.947062</td>\n",
       "      <td>0.925000</td>\n",
       "    </tr>\n",
       "  </tbody>\n",
       "</table>\n",
       "</div>"
      ],
      "text/plain": [
       "                        Positive Train Recall Score  \\\n",
       "Weighted Random Forest                     0.929315   \n",
       "Tuned Random Forest                        0.947062   \n",
       "\n",
       "                        Positive Test Recall Score  \n",
       "Weighted Random Forest                    0.753571  \n",
       "Tuned Random Forest                       0.925000  "
      ]
     },
     "metadata": {},
     "output_type": "display_data"
    }
   ],
   "source": [
    "# Tuned model\n",
    "name = input()\n",
    "bestRanForTuned = RanForTuned.best_estimator_\n",
    "RF_tunedtrainPred = bestRanForTuned.predict(X_train)\n",
    "RF_tunedtestPred = bestRanForTuned.predict(X_test)\n",
    "\n",
    "recallScoreTuned.loc[name] = [recall_score(y_train, RF_tunedtrainPred), recall_score(y_test, RF_tunedtestPred)]\n",
    "\n",
    "plotConMat(name, bestRanForTuned, X_train, X_test, y_train, y_test)\n",
    "\n",
    "print(\"\\nPositive Recall Score Train vs Test :\")\n",
    "display(recallScoreTuned)"
   ]
  },
  {
   "cell_type": "markdown",
   "metadata": {},
   "source": [
    "The tuned model gains high increment in test score, meanwhile just a slight score in train. This is absolutely good for us since the model decereases gap in train and data score, hence it becomes more perfectly-fit. Besides, increment in train score still doesn't make this model too strong learner (memorize, not learning pattern)."
   ]
  },
  {
   "cell_type": "markdown",
   "metadata": {
    "id": "tBPOczSHaGd_"
   },
   "source": [
    "### Logistic Regression"
   ]
  },
  {
   "cell_type": "markdown",
   "metadata": {
    "id": "xh5a5sH8-e1x"
   },
   "source": [
    "**Class weight**"
   ]
  },
  {
   "cell_type": "code",
   "execution_count": 1255,
   "metadata": {
    "code_folding": [
     0
    ],
    "colab": {
     "base_uri": "https://localhost:8080/",
     "height": 442
    },
    "id": "B1h0NGLUafT0",
    "outputId": "f23468df-2221-46ee-ac14-886c3f2bb03e"
   },
   "outputs": [
    {
     "name": "stdout",
     "output_type": "stream",
     "text": [
      "Weighted Logistic Regression\n"
     ]
    },
    {
     "data": {
      "image/png": "[encoded data removed]",
      "text/plain": [
       "<Figure size 1080x432 with 4 Axes>"
      ]
     },
     "metadata": {
      "needs_background": "light"
     },
     "output_type": "display_data"
    },
    {
     "name": "stdout",
     "output_type": "stream",
     "text": [
      "\n",
      "Positive Recall Score Train vs Test :\n"
     ]
    },
    {
     "data": {
      "text/html": [
       "<div>\n",
       "<style scoped>\n",
       "    .dataframe tbody tr th:only-of-type {\n",
       "        vertical-align: middle;\n",
       "    }\n",
       "\n",
       "    .dataframe tbody tr th {\n",
       "        vertical-align: top;\n",
       "    }\n",
       "\n",
       "    .dataframe thead th {\n",
       "        text-align: right;\n",
       "    }\n",
       "</style>\n",
       "<table border=\"1\" class=\"dataframe\">\n",
       "  <thead>\n",
       "    <tr style=\"text-align: right;\">\n",
       "      <th></th>\n",
       "      <th>Positive Train Recall Score</th>\n",
       "      <th>Positive Test Recall Score</th>\n",
       "    </tr>\n",
       "  </thead>\n",
       "  <tbody>\n",
       "    <tr>\n",
       "      <th>Weighted Random Forest</th>\n",
       "      <td>0.929315</td>\n",
       "      <td>0.753571</td>\n",
       "    </tr>\n",
       "    <tr>\n",
       "      <th>Tuned Random Forest</th>\n",
       "      <td>0.947062</td>\n",
       "      <td>0.925000</td>\n",
       "    </tr>\n",
       "    <tr>\n",
       "      <th>Weighted Logistic Regression</th>\n",
       "      <td>0.889229</td>\n",
       "      <td>0.888571</td>\n",
       "    </tr>\n",
       "  </tbody>\n",
       "</table>\n",
       "</div>"
      ],
      "text/plain": [
       "                              Positive Train Recall Score  \\\n",
       "Weighted Random Forest                           0.929315   \n",
       "Tuned Random Forest                              0.947062   \n",
       "Weighted Logistic Regression                     0.889229   \n",
       "\n",
       "                              Positive Test Recall Score  \n",
       "Weighted Random Forest                          0.753571  \n",
       "Tuned Random Forest                             0.925000  \n",
       "Weighted Logistic Regression                    0.888571  "
      ]
     },
     "metadata": {},
     "output_type": "display_data"
    }
   ],
   "source": [
    "# Using class_weight parameter\n",
    "name = input()\n",
    "LogReg = LogisticRegression(class_weight = {0 : .05, 1 : .95}, random_state = 7).fit(X_train, y_train)\n",
    "LG_wtrainPred = LogReg.predict(X_train)\n",
    "LG_wtestPred = LogReg.predict(X_test)\n",
    "\n",
    "recallScoreTuned.loc[name] = [recall_score(y_train, LG_wtrainPred), recall_score(y_test, LG_wtestPred)]\n",
    "\n",
    "plotConMat(name, LogReg, X_train, X_test, y_train, y_test)\n",
    "\n",
    "print(\"\\nPositive Recall Score Train vs Test :\")\n",
    "display(recallScoreTuned)"
   ]
  },
  {
   "cell_type": "markdown",
   "metadata": {},
   "source": [
    "Again, the best weight is 0.5 and 0.95 for the classes just like Random Forest. The difference is, Logistic Regression succeed to equalize the train and test score **perfectly**. So, we got a non hypertuned model with good score and perfectly fit. However, we still want to maximize it and try if it could increase by a slight number. Hence, we will use this class weight to perform hyper parameter tuning."
   ]
  },
  {
   "cell_type": "markdown",
   "metadata": {
    "id": "C_Lpdf9Z-a3b"
   },
   "source": [
    "We will apply scaling method to enhance model performance and fulfill **penalty terms**, where all features must be scaled first so there would be no bias."
   ]
  },
  {
   "cell_type": "code",
   "execution_count": 1315,
   "metadata": {
    "code_folding": [
     0
    ],
    "id": "5tS0pyZf_aXv"
   },
   "outputs": [],
   "source": [
    "# Scaling\n",
    "XS_train = MinMaxScaler().fit_transform(X_train)\n",
    "XS_test = MinMaxScaler().fit_transform(X_test)"
   ]
  },
  {
   "cell_type": "markdown",
   "metadata": {
    "id": "M9qgXrWOvKAI"
   },
   "source": [
    "**Hyper parameter tuning**"
   ]
  },
  {
   "cell_type": "code",
   "execution_count": 1318,
   "metadata": {
    "code_folding": [
     0
    ],
    "colab": {
     "base_uri": "https://localhost:8080/"
    },
    "collapsed": true,
    "id": "tC-HTykJu14x",
    "outputId": "c1020c14-eb3e-41d6-b60f-d126c98c770b"
   },
   "outputs": [
    {
     "name": "stdout",
     "output_type": "stream",
     "text": [
      "Fitting 4 folds for each of 30 candidates, totalling 120 fits\n"
     ]
    },
    {
     "name": "stderr",
     "output_type": "stream",
     "text": [
      "[Parallel(n_jobs=-1)]: Using backend LokyBackend with 4 concurrent workers.\n",
      "[Parallel(n_jobs=-1)]: Done  42 tasks      | elapsed:    6.0s\n",
      "[Parallel(n_jobs=-1)]: Done 120 out of 120 | elapsed:   12.8s finished\n"
     ]
    },
    {
     "data": {
      "text/plain": [
       "RandomizedSearchCV(cv=4, estimator=LogisticRegression(), n_iter=30, n_jobs=-1,\n",
       "                   param_distributions={'C': [0.05, 0.1, 0.2, 0.3, 0.4, 0.5,\n",
       "                                              0.6, 0.7, 0.8],\n",
       "                                        'class_weight': [{0: 0.05, 1: 0.95}],\n",
       "                                        'max_iter': [100, 300, 500, 600, 250,\n",
       "                                                     400, 550, 150],\n",
       "                                        'penalty': ['l1', 'l2', 'elasticnet'],\n",
       "                                        'random_state': [7],\n",
       "                                        'solver': ['newton-cg', 'lbfgs',\n",
       "                                                   'liblinear', 'sag',\n",
       "                                                   'saga']},\n",
       "                   verbose=1)"
      ]
     },
     "execution_count": 1318,
     "metadata": {},
     "output_type": "execute_result"
    }
   ],
   "source": [
    "# RandomizedSearchCV\n",
    "LogRegTuned = RandomizedSearchCV(\n",
    "    estimator = LogisticRegression(),\n",
    "    param_distributions = {\n",
    "        \"penalty\" : [\"l1\", \"l2\", \"elasticnet\"],\n",
    "        \"max_iter\" : [100, 300, 500, 600, 250, 400, 550, 150],\n",
    "        \"C\" : [0.05, 0.1, 0.2, 0.3, 0.4, 0.5, 0.6, 0.7, 0.8],\n",
    "        \"solver\" : [\"newton-cg\", \"lbfgs\", \"liblinear\", \"sag\", \"saga\"],\n",
    "        \"class_weight\" : [{0 : .05, 1 : .95}],\n",
    "        \"random_state\" : [7]\n",
    "        }, cv = 4, n_jobs = -1, verbose = 1, n_iter = 30\n",
    "    )\n",
    "\n",
    "LogRegTuned.fit(XS_train, y_train)"
   ]
  },
  {
   "cell_type": "code",
   "execution_count": 1319,
   "metadata": {
    "code_folding": [
     0
    ],
    "colab": {
     "base_uri": "https://localhost:8080/",
     "height": 507
    },
    "id": "QnccTLId09zU",
    "outputId": "51105d60-d568-4224-ed4c-e742ab080d12"
   },
   "outputs": [
    {
     "name": "stdout",
     "output_type": "stream",
     "text": [
      "Tuned Logistic Regression\n"
     ]
    },
    {
     "data": {
      "image/png": "[encoded data removed]",
      "text/plain": [
       "<Figure size 1080x432 with 4 Axes>"
      ]
     },
     "metadata": {
      "needs_background": "light"
     },
     "output_type": "display_data"
    },
    {
     "name": "stdout",
     "output_type": "stream",
     "text": [
      "\n",
      "Positive Recall Score Train vs Test :\n"
     ]
    },
    {
     "data": {
      "text/html": [
       "<div>\n",
       "<style scoped>\n",
       "    .dataframe tbody tr th:only-of-type {\n",
       "        vertical-align: middle;\n",
       "    }\n",
       "\n",
       "    .dataframe tbody tr th {\n",
       "        vertical-align: top;\n",
       "    }\n",
       "\n",
       "    .dataframe thead th {\n",
       "        text-align: right;\n",
       "    }\n",
       "</style>\n",
       "<table border=\"1\" class=\"dataframe\">\n",
       "  <thead>\n",
       "    <tr style=\"text-align: right;\">\n",
       "      <th></th>\n",
       "      <th>Positive Train Recall Score</th>\n",
       "      <th>Positive Test Recall Score</th>\n",
       "    </tr>\n",
       "  </thead>\n",
       "  <tbody>\n",
       "    <tr>\n",
       "      <th>Weighted Random Forest</th>\n",
       "      <td>0.929315</td>\n",
       "      <td>0.753571</td>\n",
       "    </tr>\n",
       "    <tr>\n",
       "      <th>Tuned Random Forest</th>\n",
       "      <td>0.947062</td>\n",
       "      <td>0.925000</td>\n",
       "    </tr>\n",
       "    <tr>\n",
       "      <th>Weighted Logistic Regression</th>\n",
       "      <td>0.889229</td>\n",
       "      <td>0.888571</td>\n",
       "    </tr>\n",
       "    <tr>\n",
       "      <th>Tuned Logistic Regression</th>\n",
       "      <td>0.888005</td>\n",
       "      <td>0.889286</td>\n",
       "    </tr>\n",
       "  </tbody>\n",
       "</table>\n",
       "</div>"
      ],
      "text/plain": [
       "                              Positive Train Recall Score  \\\n",
       "Weighted Random Forest                           0.929315   \n",
       "Tuned Random Forest                              0.947062   \n",
       "Weighted Logistic Regression                     0.889229   \n",
       "Tuned Logistic Regression                        0.888005   \n",
       "\n",
       "                              Positive Test Recall Score  \n",
       "Weighted Random Forest                          0.753571  \n",
       "Tuned Random Forest                             0.925000  \n",
       "Weighted Logistic Regression                    0.888571  \n",
       "Tuned Logistic Regression                       0.889286  "
      ]
     },
     "metadata": {},
     "output_type": "display_data"
    }
   ],
   "source": [
    "# Tuned model\n",
    "name = input()\n",
    "bestLogRegTuned = LogRegTuned.best_estimator_\n",
    "LG_tunedtrainPred = bestLogRegTuned.predict(XS_train)\n",
    "LG_tunedtestPred = bestLogRegTuned.predict(XS_test)\n",
    "\n",
    "recallScoreTuned.loc[name] = [recall_score(y_train, LG_tunedtrainPred), recall_score(y_test, LG_tunedtestPred)]\n",
    "\n",
    "plotConMat(name, bestLogRegTuned, XS_train, XS_test, y_train, y_test)\n",
    "\n",
    "print(\"\\nPositive Recall Score Train vs Test :\")\n",
    "display(recallScoreTuned)"
   ]
  },
  {
   "cell_type": "markdown",
   "metadata": {
    "id": "_S1jOkZhUQtd"
   },
   "source": [
    "Test score performs better than train score and also increases slightly from the weighted only model."
   ]
  },
  {
   "cell_type": "markdown",
   "metadata": {
    "id": "XYorCiwAWHYg"
   },
   "source": [
    "### XGB Classifier\n",
    "\n",
    "Just like the other two, we can alter weight proportion between minority and majority class in XGB using **scale_pos_weight**. The normative and common formula for this parameter is **total negative targets / total positive target**."
   ]
  },
  {
   "cell_type": "markdown",
   "metadata": {
    "id": "06Sh5-vxXAmv"
   },
   "source": [
    "**Weight ratio**"
   ]
  },
  {
   "cell_type": "code",
   "execution_count": 1320,
   "metadata": {
    "code_folding": [
     0
    ],
    "colab": {
     "base_uri": "https://localhost:8080/",
     "height": 537
    },
    "id": "XBYGFOMVUF7x",
    "outputId": "e4dee831-5efd-4df7-8811-b639c09eabd9"
   },
   "outputs": [
    {
     "name": "stdout",
     "output_type": "stream",
     "text": [
      "Weighted XGBoost\n"
     ]
    },
    {
     "data": {
      "image/png": "[encoded data removed]",
      "text/plain": [
       "<Figure size 1080x432 with 4 Axes>"
      ]
     },
     "metadata": {
      "needs_background": "light"
     },
     "output_type": "display_data"
    },
    {
     "name": "stdout",
     "output_type": "stream",
     "text": [
      "\n",
      "Positive Recall Score Train vs Test :\n"
     ]
    },
    {
     "data": {
      "text/html": [
       "<div>\n",
       "<style scoped>\n",
       "    .dataframe tbody tr th:only-of-type {\n",
       "        vertical-align: middle;\n",
       "    }\n",
       "\n",
       "    .dataframe tbody tr th {\n",
       "        vertical-align: top;\n",
       "    }\n",
       "\n",
       "    .dataframe thead th {\n",
       "        text-align: right;\n",
       "    }\n",
       "</style>\n",
       "<table border=\"1\" class=\"dataframe\">\n",
       "  <thead>\n",
       "    <tr style=\"text-align: right;\">\n",
       "      <th></th>\n",
       "      <th>Positive Train Recall Score</th>\n",
       "      <th>Positive Test Recall Score</th>\n",
       "    </tr>\n",
       "  </thead>\n",
       "  <tbody>\n",
       "    <tr>\n",
       "      <th>Weighted Random Forest</th>\n",
       "      <td>0.929315</td>\n",
       "      <td>0.753571</td>\n",
       "    </tr>\n",
       "    <tr>\n",
       "      <th>Tuned Random Forest</th>\n",
       "      <td>0.947062</td>\n",
       "      <td>0.925000</td>\n",
       "    </tr>\n",
       "    <tr>\n",
       "      <th>Weighted Logistic Regression</th>\n",
       "      <td>0.889229</td>\n",
       "      <td>0.888571</td>\n",
       "    </tr>\n",
       "    <tr>\n",
       "      <th>Tuned Logistic Regression</th>\n",
       "      <td>0.888005</td>\n",
       "      <td>0.889286</td>\n",
       "    </tr>\n",
       "    <tr>\n",
       "      <th>Weighted XGBoost</th>\n",
       "      <td>0.918605</td>\n",
       "      <td>0.849286</td>\n",
       "    </tr>\n",
       "  </tbody>\n",
       "</table>\n",
       "</div>"
      ],
      "text/plain": [
       "                              Positive Train Recall Score  \\\n",
       "Weighted Random Forest                           0.929315   \n",
       "Tuned Random Forest                              0.947062   \n",
       "Weighted Logistic Regression                     0.889229   \n",
       "Tuned Logistic Regression                        0.888005   \n",
       "Weighted XGBoost                                 0.918605   \n",
       "\n",
       "                              Positive Test Recall Score  \n",
       "Weighted Random Forest                          0.753571  \n",
       "Tuned Random Forest                             0.925000  \n",
       "Weighted Logistic Regression                    0.888571  \n",
       "Tuned Logistic Regression                       0.889286  \n",
       "Weighted XGBoost                                0.849286  "
      ]
     },
     "metadata": {},
     "output_type": "display_data"
    }
   ],
   "source": [
    "# Using scale_pos_weight parameter\n",
    "name = input()\n",
    "XGB = XGBClassifier(scale_pos_weight = len(y[y == 0]) / len(y[y == 1]), random_state = 7).fit(X_train, y_train)\n",
    "XGB_wtrainPred = XGB.predict(X_train)\n",
    "XGB_wtestPred = XGB.predict(X_test)\n",
    "\n",
    "recallScoreTuned.loc[name] = [recall_score(y_train, XGB_wtrainPred), recall_score(y_test, XGB_wtestPred)]\n",
    "\n",
    "plotConMat(name, XGB, X_train, X_test, y_train, y_test)\n",
    "\n",
    "print(\"\\nPositive Recall Score Train vs Test :\")\n",
    "display(recallScoreTuned)"
   ]
  },
  {
   "cell_type": "markdown",
   "metadata": {
    "id": "U-UhmxCnbmiW"
   },
   "source": [
    "Weighted class approach give us a **very slight difference** than ROS, where train and test are 0.918198 and 0.845000 respectively. However, we still wanna use the highest one, so we will use this weight ratio."
   ]
  },
  {
   "cell_type": "markdown",
   "metadata": {
    "id": "Rb0n4rnNe867"
   },
   "source": [
    "**Hyper parameter tuning**"
   ]
  },
  {
   "cell_type": "code",
   "execution_count": 1327,
   "metadata": {
    "code_folding": [
     0
    ],
    "colab": {
     "base_uri": "https://localhost:8080/"
    },
    "collapsed": true,
    "id": "acY5t-3WasJB",
    "outputId": "5df6ce3f-22d6-42f9-d597-e103959e46f9"
   },
   "outputs": [
    {
     "name": "stdout",
     "output_type": "stream",
     "text": [
      "Fitting 4 folds for each of 30 candidates, totalling 120 fits\n"
     ]
    },
    {
     "name": "stderr",
     "output_type": "stream",
     "text": [
      "[Parallel(n_jobs=-1)]: Using backend LokyBackend with 4 concurrent workers.\n",
      "[Parallel(n_jobs=-1)]: Done  42 tasks      | elapsed:  6.7min\n",
      "[Parallel(n_jobs=-1)]: Done 120 out of 120 | elapsed: 17.7min finished\n"
     ]
    },
    {
     "data": {
      "text/plain": [
       "RandomizedSearchCV(cv=4,\n",
       "                   estimator=XGBClassifier(base_score=None, booster=None,\n",
       "                                           colsample_bylevel=None,\n",
       "                                           colsample_bynode=None,\n",
       "                                           colsample_bytree=None, gamma=None,\n",
       "                                           gpu_id=None, importance_type='gain',\n",
       "                                           interaction_constraints=None,\n",
       "                                           learning_rate=None,\n",
       "                                           max_delta_step=None, max_depth=None,\n",
       "                                           min_child_weight=None, missing=nan,\n",
       "                                           monotone_constraints=None,\n",
       "                                           n_estimators=100,...\n",
       "                   param_distributions={'booster': ['gbtree', 'gblinear',\n",
       "                                                    'dart'],\n",
       "                                        'colsample_bytree': [0.3, 0.4, 0.5, 0.6,\n",
       "                                                             0.7, 0.8],\n",
       "                                        'gamma': [0, 1, 5],\n",
       "                                        'learning_rate': [0.02, 0.03,\n",
       "                                                          0.039999999999999994,\n",
       "                                                          0.049999999999999996,\n",
       "                                                          0.06,\n",
       "                                                          0.06999999999999999],\n",
       "                                        'max_depth': [3, 4, 5, 6, 7, 8],\n",
       "                                        'n_estimators': [100, 120, 150, 170,\n",
       "                                                         200, 220, 250],\n",
       "                                        'random_state': [7],\n",
       "                                        'scale_pos_weight': [10.741216795201371]},\n",
       "                   verbose=1)"
      ]
     },
     "execution_count": 1327,
     "metadata": {},
     "output_type": "execute_result"
    }
   ],
   "source": [
    "# RandomizedSearchCV\n",
    "XGBTuned = RandomizedSearchCV(\n",
    "    estimator = XGBClassifier(),\n",
    "    param_distributions = {\n",
    "        \"booster\" : [\"gbtree\", \"gblinear\", \"dart\"],\n",
    "        \"max_depth\" :  [d for d in range(3, 9)],\n",
    "        \"learning_rate\" : [l for l in np.arange(0.02, 0.08, 0.01)],\n",
    "        \"n_estimators\" : [100, 120, 150, 170, 200, 220, 250],\n",
    "        \"gamma\" : [0, 1, 5],\n",
    "        \"colsample_bytree\" : [0.3, 0.4, 0.5, 0.6, 0.7, 0.8],\n",
    "        \"random_state\" : [7],\n",
    "        \"scale_pos_weight\" : [len(y[y == 0]) / len(y[y == 1])]\n",
    "    }, cv = 4, n_jobs = -1, verbose = 1, n_iter = 30\n",
    "    )\n",
    "\n",
    "XGBTuned.fit(X_train, y_train)"
   ]
  },
  {
   "cell_type": "code",
   "execution_count": 1328,
   "metadata": {
    "code_folding": [
     0
    ],
    "colab": {
     "base_uri": "https://localhost:8080/",
     "height": 567
    },
    "id": "Z4thMw7Ai-u5",
    "outputId": "9ef777c1-e823-4bad-ea92-b5e4695058f8"
   },
   "outputs": [
    {
     "name": "stdout",
     "output_type": "stream",
     "text": [
      "Tuned XGBoost\n"
     ]
    },
    {
     "data": {
      "image/png": "[encoded data removed]",
      "text/plain": [
       "<Figure size 1080x432 with 4 Axes>"
      ]
     },
     "metadata": {
      "needs_background": "light"
     },
     "output_type": "display_data"
    },
    {
     "name": "stdout",
     "output_type": "stream",
     "text": [
      "\n",
      "Positive Recall Score Train vs Test :\n"
     ]
    },
    {
     "data": {
      "text/html": [
       "<div>\n",
       "<style scoped>\n",
       "    .dataframe tbody tr th:only-of-type {\n",
       "        vertical-align: middle;\n",
       "    }\n",
       "\n",
       "    .dataframe tbody tr th {\n",
       "        vertical-align: top;\n",
       "    }\n",
       "\n",
       "    .dataframe thead th {\n",
       "        text-align: right;\n",
       "    }\n",
       "</style>\n",
       "<table border=\"1\" class=\"dataframe\">\n",
       "  <thead>\n",
       "    <tr style=\"text-align: right;\">\n",
       "      <th></th>\n",
       "      <th>Positive Train Recall Score</th>\n",
       "      <th>Positive Test Recall Score</th>\n",
       "    </tr>\n",
       "  </thead>\n",
       "  <tbody>\n",
       "    <tr>\n",
       "      <th>Weighted Random Forest</th>\n",
       "      <td>0.929315</td>\n",
       "      <td>0.753571</td>\n",
       "    </tr>\n",
       "    <tr>\n",
       "      <th>Tuned Random Forest</th>\n",
       "      <td>0.947062</td>\n",
       "      <td>0.925000</td>\n",
       "    </tr>\n",
       "    <tr>\n",
       "      <th>Weighted Logistic Regression</th>\n",
       "      <td>0.889229</td>\n",
       "      <td>0.888571</td>\n",
       "    </tr>\n",
       "    <tr>\n",
       "      <th>Tuned Logistic Regression</th>\n",
       "      <td>0.888005</td>\n",
       "      <td>0.889286</td>\n",
       "    </tr>\n",
       "    <tr>\n",
       "      <th>Weighted XGBoost</th>\n",
       "      <td>0.918605</td>\n",
       "      <td>0.849286</td>\n",
       "    </tr>\n",
       "    <tr>\n",
       "      <th>Tuned XGBoost</th>\n",
       "      <td>0.915239</td>\n",
       "      <td>0.862857</td>\n",
       "    </tr>\n",
       "  </tbody>\n",
       "</table>\n",
       "</div>"
      ],
      "text/plain": [
       "                              Positive Train Recall Score  \\\n",
       "Weighted Random Forest                           0.929315   \n",
       "Tuned Random Forest                              0.947062   \n",
       "Weighted Logistic Regression                     0.889229   \n",
       "Tuned Logistic Regression                        0.888005   \n",
       "Weighted XGBoost                                 0.918605   \n",
       "Tuned XGBoost                                    0.915239   \n",
       "\n",
       "                              Positive Test Recall Score  \n",
       "Weighted Random Forest                          0.753571  \n",
       "Tuned Random Forest                             0.925000  \n",
       "Weighted Logistic Regression                    0.888571  \n",
       "Tuned Logistic Regression                       0.889286  \n",
       "Weighted XGBoost                                0.849286  \n",
       "Tuned XGBoost                                   0.862857  "
      ]
     },
     "metadata": {},
     "output_type": "display_data"
    }
   ],
   "source": [
    "# Tuned model\n",
    "name = input()\n",
    "bestXGBTuned = XGBTuned.best_estimator_\n",
    "XGB_tunedtrainPred = bestXGBTuned.predict(X_train)\n",
    "XGB_tunedtestPred = bestXGBTuned.predict(X_test)\n",
    "\n",
    "recallScoreTuned.loc[name] = [recall_score(y_train, XGB_tunedtrainPred), recall_score(y_test, XGB_tunedtestPred)]\n",
    "\n",
    "plotConMat(name, bestXGBTuned, X_train, X_test, y_train, y_test)\n",
    "\n",
    "print(\"\\nPositive Recall Score Train vs Test :\")\n",
    "display(recallScoreTuned)"
   ]
  },
  {
   "cell_type": "markdown",
   "metadata": {},
   "source": [
    "**ROC Curve**"
   ]
  },
  {
   "cell_type": "markdown",
   "metadata": {},
   "source": [
    "After all attempts, we found that tuned Random Forest is the best model for us **because it provides the least FN rate**. In this case, we really don't care about how many FP occurs in the prediction. If only we pick the **best balanced model**, we should pick tuned XGB over the others. XGB has the highest AUC score because besides attempting to reduce FN, it also simultaneously reduce FP score. Thus, it has the lowest FP score across the model and as a result has the **widest** AUC area."
   ]
  },
  {
   "cell_type": "code",
   "execution_count": 1335,
   "metadata": {
    "code_folding": [
     0
    ]
   },
   "outputs": [
    {
     "data": {
      "image/png": "[encoded data removed]",
      "text/plain": [
       "<Figure size 936x576 with 1 Axes>"
      ]
     },
     "metadata": {
      "needs_background": "light"
     },
     "output_type": "display_data"
    }
   ],
   "source": [
    "# FPR and TPR per model\n",
    "RF_fpr, RF_tpr, RF_th = roc_curve(y_test, RF_tunedtestProbs)\n",
    "LG_fpr, LG_tpr, LG_th = roc_curve(y_test, LG_tunedtestProbs)\n",
    "XGB_fpr, XGB_tpr, XGB_th = roc_curve(y_test, XGB_tunedtestProbs)\n",
    "\n",
    "# Plotting\n",
    "plt.figure(figsize = (13, 8))\n",
    "plt.plot(RF_fpr, RF_tpr, color = \"mediumaquamarine\", label = f\"RanFor AUC = {round(auc(RF_fpr, RF_tpr), 2)}\")\n",
    "plt.plot(LG_fpr, LG_tpr, color = \"steelblue\", label = f\"LogReg AUC = {round(auc(LG_fpr, LG_tpr), 2)}\")\n",
    "plt.plot(XGB_fpr, XGB_tpr, color = \"violet\", label = f\"XGB AUC = {round(auc(XGB_fpr, XGB_tpr), 2)}\")\n",
    "plt.plot([0, 1], [0, 1], color = \"grey\", alpha = 0.6, ls = \"--\")\n",
    "plt.title(\n",
    "        \"ROC Curve per Model\", fontdict = {'fontsize': 17,\n",
    "        'fontweight' : \"bold\",\n",
    "        'color' : \"black\",\n",
    "        'verticalalignment': 'baseline',\n",
    "        'horizontalalignment': \"center\"\n",
    "        }, y = 1.03\n",
    "    )\n",
    "plt.xlabel(\n",
    "    \"False Positive Rates\",\n",
    "    fontdict = {\n",
    "        \"weight\" : \"bold\",\n",
    "        \"size\" : 12\n",
    "    }\n",
    "    )\n",
    "plt.ylabel(\n",
    "    \"True Positive Rates\",\n",
    "    fontdict = {\n",
    "        \"weight\" : \"bold\",\n",
    "        \"size\" : 12\n",
    "    }\n",
    "    )\n",
    "plt.xlim([0 , 1])\n",
    "plt.ylim([0 , 1])\n",
    "plt.legend()\n",
    "\n",
    "plt.show()"
   ]
  },
  {
   "cell_type": "code",
   "execution_count": 1336,
   "metadata": {
    "code_folding": [
     0
    ],
    "colab": {
     "base_uri": "https://localhost:8080/"
    },
    "id": "Bh-E8rQFgsJM",
    "outputId": "082e2f78-ac12-42a1-b848-e7f89aa9385c"
   },
   "outputs": [
    {
     "data": {
      "text/plain": [
       "['./bestModel']"
      ]
     },
     "execution_count": 1336,
     "metadata": {},
     "output_type": "execute_result"
    }
   ],
   "source": [
    "# Exporting tuned Random Forest\n",
    "joblib.dump(bestRanForTuned, \"./bestModel\")"
   ]
  },
  {
   "cell_type": "markdown",
   "metadata": {
    "id": "if_Wwo8sOJHF"
   },
   "source": [
    "# Recommendation\n",
    "\n",
    "- The tuned Random Forest is good enough yet still can be maximized. There's plenty of rooms for improvement, especially on bagging the train score even more. It is believed the tuned model could be more perfectly-fit than it is. \n",
    "- It is suggested to enhance the tuned Logistic Regression because it seems to have potential to exceed Random Forest. Not only on the score itself, but also on the balance of train and test score, which Logistic Regression is better at. The best way to improve it is finding the best class weight.\n",
    "- This model is most likely can't be implemented on small, new, or unsettled companies. Most of the time, they don't have a rigid regulations and assessment yet for the employees. These type of company tend to use informal and situational approach to do job promotion. Meanwhile, this model is suitable for big and settled company, which already have a mature system and regulation."
   ]
  }
 ],
 "metadata": {
  "colab": {
   "collapsed_sections": [],
   "name": "FinalProject.ipynb",
   "provenance": []
  },
  "kernelspec": {
   "display_name": "Python 3",
   "language": "python",
   "name": "python3"
  },
  "language_info": {
   "codemirror_mode": {
    "name": "ipython",
    "version": 3
   },
   "file_extension": ".py",
   "mimetype": "text/x-python",
   "name": "python",
   "nbconvert_exporter": "python",
   "pygments_lexer": "ipython3",
   "version": "3.8.3"
  },
  "toc": {
   "base_numbering": 1,
   "nav_menu": {},
   "number_sections": true,
   "sideBar": true,
   "skip_h1_title": false,
   "title_cell": "Table of Contents",
   "title_sidebar": "Contents",
   "toc_cell": false,
   "toc_position": {
    "height": "calc(100% - 180px)",
    "left": "10px",
    "top": "150px",
    "width": "248.316px"
   },
   "toc_section_display": true,
   "toc_window_display": false
  },
  "widgets": {
   "application/vnd.jupyter.widget-state+json": {
    "06f5870969b84841b6b83178e8645929": {
     "model_module": "@jupyter-widgets/base",
     "model_name": "LayoutModel",
     "state": {
      "_model_module": "@jupyter-widgets/base",
      "_model_module_version": "1.2.0",
      "_model_name": "LayoutModel",
      "_view_count": null,
      "_view_module": "@jupyter-widgets/base",
      "_view_module_version": "1.2.0",
      "_view_name": "LayoutView",
      "align_content": null,
      "align_items": null,
      "align_self": null,
      "border": null,
      "bottom": null,
      "display": null,
      "flex": null,
      "flex_flow": null,
      "grid_area": null,
      "grid_auto_columns": null,
      "grid_auto_flow": null,
      "grid_auto_rows": null,
      "grid_column": null,
      "grid_gap": null,
      "grid_row": null,
      "grid_template_areas": null,
      "grid_template_columns": null,
      "grid_template_rows": null,
      "height": null,
      "justify_content": null,
      "justify_items": null,
      "left": null,
      "margin": null,
      "max_height": null,
      "max_width": null,
      "min_height": null,
      "min_width": null,
      "object_fit": null,
      "object_position": null,
      "order": null,
      "overflow": null,
      "overflow_x": null,
      "overflow_y": null,
      "padding": null,
      "right": null,
      "top": null,
      "visibility": null,
      "width": null
     }
    },
    "154cf36066524ef792fcc2c87f3497cb": {
     "model_module": "@jupyter-widgets/controls",
     "model_name": "HTMLModel",
     "state": {
      "_dom_classes": [],
      "_model_module": "@jupyter-widgets/controls",
      "_model_module_version": "1.5.0",
      "_model_name": "HTMLModel",
      "_view_count": null,
      "_view_module": "@jupyter-widgets/controls",
      "_view_module_version": "1.5.0",
      "_view_name": "HTMLView",
      "description": "",
      "description_tooltip": null,
      "layout": "IPY_MODEL_06f5870969b84841b6b83178e8645929",
      "placeholder": "​",
      "style": "IPY_MODEL_a956a33dc0d849a1a0734f426b979cd7",
      "value": " 4124/4124 [00:13&lt;00:00, 313.46it/s]"
     }
    },
    "2329191301cb42cc8c160d3ad60c016c": {
     "model_module": "@jupyter-widgets/base",
     "model_name": "LayoutModel",
     "state": {
      "_model_module": "@jupyter-widgets/base",
      "_model_module_version": "1.2.0",
      "_model_name": "LayoutModel",
      "_view_count": null,
      "_view_module": "@jupyter-widgets/base",
      "_view_module_version": "1.2.0",
      "_view_name": "LayoutView",
      "align_content": null,
      "align_items": null,
      "align_self": null,
      "border": null,
      "bottom": null,
      "display": null,
      "flex": null,
      "flex_flow": null,
      "grid_area": null,
      "grid_auto_columns": null,
      "grid_auto_flow": null,
      "grid_auto_rows": null,
      "grid_column": null,
      "grid_gap": null,
      "grid_row": null,
      "grid_template_areas": null,
      "grid_template_columns": null,
      "grid_template_rows": null,
      "height": null,
      "justify_content": null,
      "justify_items": null,
      "left": null,
      "margin": null,
      "max_height": null,
      "max_width": null,
      "min_height": null,
      "min_width": null,
      "object_fit": null,
      "object_position": null,
      "order": null,
      "overflow": null,
      "overflow_x": null,
      "overflow_y": null,
      "padding": null,
      "right": null,
      "top": null,
      "visibility": null,
      "width": null
     }
    },
    "23c641b4dd7f45288a2e90e114b641fc": {
     "model_module": "@jupyter-widgets/base",
     "model_name": "LayoutModel",
     "state": {
      "_model_module": "@jupyter-widgets/base",
      "_model_module_version": "1.2.0",
      "_model_name": "LayoutModel",
      "_view_count": null,
      "_view_module": "@jupyter-widgets/base",
      "_view_module_version": "1.2.0",
      "_view_name": "LayoutView",
      "align_content": null,
      "align_items": null,
      "align_self": null,
      "border": null,
      "bottom": null,
      "display": null,
      "flex": null,
      "flex_flow": null,
      "grid_area": null,
      "grid_auto_columns": null,
      "grid_auto_flow": null,
      "grid_auto_rows": null,
      "grid_column": null,
      "grid_gap": null,
      "grid_row": null,
      "grid_template_areas": null,
      "grid_template_columns": null,
      "grid_template_rows": null,
      "height": null,
      "justify_content": null,
      "justify_items": null,
      "left": null,
      "margin": null,
      "max_height": null,
      "max_width": null,
      "min_height": null,
      "min_width": null,
      "object_fit": null,
      "object_position": null,
      "order": null,
      "overflow": null,
      "overflow_x": null,
      "overflow_y": null,
      "padding": null,
      "right": null,
      "top": null,
      "visibility": null,
      "width": null
     }
    },
    "3baf8d441cae4416b8a7b7cb8cfe840c": {
     "model_module": "@jupyter-widgets/base",
     "model_name": "LayoutModel",
     "state": {
      "_model_module": "@jupyter-widgets/base",
      "_model_module_version": "1.2.0",
      "_model_name": "LayoutModel",
      "_view_count": null,
      "_view_module": "@jupyter-widgets/base",
      "_view_module_version": "1.2.0",
      "_view_name": "LayoutView",
      "align_content": null,
      "align_items": null,
      "align_self": null,
      "border": null,
      "bottom": null,
      "display": null,
      "flex": null,
      "flex_flow": null,
      "grid_area": null,
      "grid_auto_columns": null,
      "grid_auto_flow": null,
      "grid_auto_rows": null,
      "grid_column": null,
      "grid_gap": null,
      "grid_row": null,
      "grid_template_areas": null,
      "grid_template_columns": null,
      "grid_template_rows": null,
      "height": null,
      "justify_content": null,
      "justify_items": null,
      "left": null,
      "margin": null,
      "max_height": null,
      "max_width": null,
      "min_height": null,
      "min_width": null,
      "object_fit": null,
      "object_position": null,
      "order": null,
      "overflow": null,
      "overflow_x": null,
      "overflow_y": null,
      "padding": null,
      "right": null,
      "top": null,
      "visibility": null,
      "width": null
     }
    },
    "400b8f97af0d4c98aaa4f1473bd0bd37": {
     "model_module": "@jupyter-widgets/controls",
     "model_name": "FloatProgressModel",
     "state": {
      "_dom_classes": [],
      "_model_module": "@jupyter-widgets/controls",
      "_model_module_version": "1.5.0",
      "_model_name": "FloatProgressModel",
      "_view_count": null,
      "_view_module": "@jupyter-widgets/controls",
      "_view_module_version": "1.5.0",
      "_view_name": "ProgressView",
      "bar_style": "success",
      "description": "",
      "description_tooltip": null,
      "layout": "IPY_MODEL_2329191301cb42cc8c160d3ad60c016c",
      "max": 1,
      "min": 0,
      "orientation": "horizontal",
      "style": "IPY_MODEL_9b6dcbe231aa4213aab75e3c4b332639",
      "value": 1
     }
    },
    "4025d1fb7e0b4b07b1061ca52e1d12f2": {
     "model_module": "@jupyter-widgets/controls",
     "model_name": "ProgressStyleModel",
     "state": {
      "_model_module": "@jupyter-widgets/controls",
      "_model_module_version": "1.5.0",
      "_model_name": "ProgressStyleModel",
      "_view_count": null,
      "_view_module": "@jupyter-widgets/base",
      "_view_module_version": "1.2.0",
      "_view_name": "StyleView",
      "bar_color": null,
      "description_width": "initial"
     }
    },
    "49c9af4cb7624044bb1eb3d66e9fd440": {
     "model_module": "@jupyter-widgets/base",
     "model_name": "LayoutModel",
     "state": {
      "_model_module": "@jupyter-widgets/base",
      "_model_module_version": "1.2.0",
      "_model_name": "LayoutModel",
      "_view_count": null,
      "_view_module": "@jupyter-widgets/base",
      "_view_module_version": "1.2.0",
      "_view_name": "LayoutView",
      "align_content": null,
      "align_items": null,
      "align_self": null,
      "border": null,
      "bottom": null,
      "display": null,
      "flex": null,
      "flex_flow": null,
      "grid_area": null,
      "grid_auto_columns": null,
      "grid_auto_flow": null,
      "grid_auto_rows": null,
      "grid_column": null,
      "grid_gap": null,
      "grid_row": null,
      "grid_template_areas": null,
      "grid_template_columns": null,
      "grid_template_rows": null,
      "height": null,
      "justify_content": null,
      "justify_items": null,
      "left": null,
      "margin": null,
      "max_height": null,
      "max_width": null,
      "min_height": null,
      "min_width": null,
      "object_fit": null,
      "object_position": null,
      "order": null,
      "overflow": null,
      "overflow_x": null,
      "overflow_y": null,
      "padding": null,
      "right": null,
      "top": null,
      "visibility": null,
      "width": null
     }
    },
    "4c5dee81b911456bb3aafdbdcc64a03b": {
     "model_module": "@jupyter-widgets/controls",
     "model_name": "DescriptionStyleModel",
     "state": {
      "_model_module": "@jupyter-widgets/controls",
      "_model_module_version": "1.5.0",
      "_model_name": "DescriptionStyleModel",
      "_view_count": null,
      "_view_module": "@jupyter-widgets/base",
      "_view_module_version": "1.2.0",
      "_view_name": "StyleView",
      "description_width": ""
     }
    },
    "4d4563b06c9b41f6971edf24690fc0f2": {
     "model_module": "@jupyter-widgets/controls",
     "model_name": "HBoxModel",
     "state": {
      "_dom_classes": [],
      "_model_module": "@jupyter-widgets/controls",
      "_model_module_version": "1.5.0",
      "_model_name": "HBoxModel",
      "_view_count": null,
      "_view_module": "@jupyter-widgets/controls",
      "_view_module_version": "1.5.0",
      "_view_name": "HBoxView",
      "box_style": "",
      "children": [
       "IPY_MODEL_ec8da6491745452eaba0a6fafb42d08f",
       "IPY_MODEL_b34183147a9249e3ab4bb6cc49d27326"
      ],
      "layout": "IPY_MODEL_d0734ee892c84f8fbce9e9e373f5932a"
     }
    },
    "5a01c5593092472d8492aa14798b8037": {
     "model_module": "@jupyter-widgets/controls",
     "model_name": "DescriptionStyleModel",
     "state": {
      "_model_module": "@jupyter-widgets/controls",
      "_model_module_version": "1.5.0",
      "_model_name": "DescriptionStyleModel",
      "_view_count": null,
      "_view_module": "@jupyter-widgets/base",
      "_view_module_version": "1.2.0",
      "_view_name": "StyleView",
      "description_width": ""
     }
    },
    "7281df43f84d4e17a2ab9daf682e8df3": {
     "model_module": "@jupyter-widgets/controls",
     "model_name": "HTMLModel",
     "state": {
      "_dom_classes": [],
      "_model_module": "@jupyter-widgets/controls",
      "_model_module_version": "1.5.0",
      "_model_name": "HTMLModel",
      "_view_count": null,
      "_view_module": "@jupyter-widgets/controls",
      "_view_module_version": "1.5.0",
      "_view_name": "HTMLView",
      "description": "",
      "description_tooltip": null,
      "layout": "IPY_MODEL_7f547801d1c14997816b50171621d693",
      "placeholder": "​",
      "style": "IPY_MODEL_5a01c5593092472d8492aa14798b8037",
      "value": " 54808/? [06:19&lt;00:00, 144.42it/s]"
     }
    },
    "7f547801d1c14997816b50171621d693": {
     "model_module": "@jupyter-widgets/base",
     "model_name": "LayoutModel",
     "state": {
      "_model_module": "@jupyter-widgets/base",
      "_model_module_version": "1.2.0",
      "_model_name": "LayoutModel",
      "_view_count": null,
      "_view_module": "@jupyter-widgets/base",
      "_view_module_version": "1.2.0",
      "_view_name": "LayoutView",
      "align_content": null,
      "align_items": null,
      "align_self": null,
      "border": null,
      "bottom": null,
      "display": null,
      "flex": null,
      "flex_flow": null,
      "grid_area": null,
      "grid_auto_columns": null,
      "grid_auto_flow": null,
      "grid_auto_rows": null,
      "grid_column": null,
      "grid_gap": null,
      "grid_row": null,
      "grid_template_areas": null,
      "grid_template_columns": null,
      "grid_template_rows": null,
      "height": null,
      "justify_content": null,
      "justify_items": null,
      "left": null,
      "margin": null,
      "max_height": null,
      "max_width": null,
      "min_height": null,
      "min_width": null,
      "object_fit": null,
      "object_position": null,
      "order": null,
      "overflow": null,
      "overflow_x": null,
      "overflow_y": null,
      "padding": null,
      "right": null,
      "top": null,
      "visibility": null,
      "width": null
     }
    },
    "9b6dcbe231aa4213aab75e3c4b332639": {
     "model_module": "@jupyter-widgets/controls",
     "model_name": "ProgressStyleModel",
     "state": {
      "_model_module": "@jupyter-widgets/controls",
      "_model_module_version": "1.5.0",
      "_model_name": "ProgressStyleModel",
      "_view_count": null,
      "_view_module": "@jupyter-widgets/base",
      "_view_module_version": "1.2.0",
      "_view_name": "StyleView",
      "bar_color": null,
      "description_width": "initial"
     }
    },
    "a956a33dc0d849a1a0734f426b979cd7": {
     "model_module": "@jupyter-widgets/controls",
     "model_name": "DescriptionStyleModel",
     "state": {
      "_model_module": "@jupyter-widgets/controls",
      "_model_module_version": "1.5.0",
      "_model_name": "DescriptionStyleModel",
      "_view_count": null,
      "_view_module": "@jupyter-widgets/base",
      "_view_module_version": "1.2.0",
      "_view_name": "StyleView",
      "description_width": ""
     }
    },
    "b34183147a9249e3ab4bb6cc49d27326": {
     "model_module": "@jupyter-widgets/controls",
     "model_name": "HTMLModel",
     "state": {
      "_dom_classes": [],
      "_model_module": "@jupyter-widgets/controls",
      "_model_module_version": "1.5.0",
      "_model_name": "HTMLModel",
      "_view_count": null,
      "_view_module": "@jupyter-widgets/controls",
      "_view_module_version": "1.5.0",
      "_view_name": "HTMLView",
      "description": "",
      "description_tooltip": null,
      "layout": "IPY_MODEL_23c641b4dd7f45288a2e90e114b641fc",
      "placeholder": "​",
      "style": "IPY_MODEL_4c5dee81b911456bb3aafdbdcc64a03b",
      "value": " 2409/2409 [00:14&lt;00:00, 167.54it/s]"
     }
    },
    "b40e6161726841fca432ef2a9f25d3ac": {
     "model_module": "@jupyter-widgets/controls",
     "model_name": "FloatProgressModel",
     "state": {
      "_dom_classes": [],
      "_model_module": "@jupyter-widgets/controls",
      "_model_module_version": "1.5.0",
      "_model_name": "FloatProgressModel",
      "_view_count": null,
      "_view_module": "@jupyter-widgets/controls",
      "_view_module_version": "1.5.0",
      "_view_name": "ProgressView",
      "bar_style": "success",
      "description": "100%",
      "description_tooltip": null,
      "layout": "IPY_MODEL_49c9af4cb7624044bb1eb3d66e9fd440",
      "max": 4124,
      "min": 0,
      "orientation": "horizontal",
      "style": "IPY_MODEL_f7eaa879eeb144679b96180548cfc097",
      "value": 4124
     }
    },
    "b679630d75b7470ea977f8ec57c916a6": {
     "model_module": "@jupyter-widgets/base",
     "model_name": "LayoutModel",
     "state": {
      "_model_module": "@jupyter-widgets/base",
      "_model_module_version": "1.2.0",
      "_model_name": "LayoutModel",
      "_view_count": null,
      "_view_module": "@jupyter-widgets/base",
      "_view_module_version": "1.2.0",
      "_view_name": "LayoutView",
      "align_content": null,
      "align_items": null,
      "align_self": null,
      "border": null,
      "bottom": null,
      "display": null,
      "flex": null,
      "flex_flow": null,
      "grid_area": null,
      "grid_auto_columns": null,
      "grid_auto_flow": null,
      "grid_auto_rows": null,
      "grid_column": null,
      "grid_gap": null,
      "grid_row": null,
      "grid_template_areas": null,
      "grid_template_columns": null,
      "grid_template_rows": null,
      "height": null,
      "justify_content": null,
      "justify_items": null,
      "left": null,
      "margin": null,
      "max_height": null,
      "max_width": null,
      "min_height": null,
      "min_width": null,
      "object_fit": null,
      "object_position": null,
      "order": null,
      "overflow": null,
      "overflow_x": null,
      "overflow_y": null,
      "padding": null,
      "right": null,
      "top": null,
      "visibility": null,
      "width": null
     }
    },
    "c2fe747b058747aab696643be5b2cc77": {
     "model_module": "@jupyter-widgets/controls",
     "model_name": "HBoxModel",
     "state": {
      "_dom_classes": [],
      "_model_module": "@jupyter-widgets/controls",
      "_model_module_version": "1.5.0",
      "_model_name": "HBoxModel",
      "_view_count": null,
      "_view_module": "@jupyter-widgets/controls",
      "_view_module_version": "1.5.0",
      "_view_name": "HBoxView",
      "box_style": "",
      "children": [
       "IPY_MODEL_400b8f97af0d4c98aaa4f1473bd0bd37",
       "IPY_MODEL_7281df43f84d4e17a2ab9daf682e8df3"
      ],
      "layout": "IPY_MODEL_b679630d75b7470ea977f8ec57c916a6"
     }
    },
    "d0734ee892c84f8fbce9e9e373f5932a": {
     "model_module": "@jupyter-widgets/base",
     "model_name": "LayoutModel",
     "state": {
      "_model_module": "@jupyter-widgets/base",
      "_model_module_version": "1.2.0",
      "_model_name": "LayoutModel",
      "_view_count": null,
      "_view_module": "@jupyter-widgets/base",
      "_view_module_version": "1.2.0",
      "_view_name": "LayoutView",
      "align_content": null,
      "align_items": null,
      "align_self": null,
      "border": null,
      "bottom": null,
      "display": null,
      "flex": null,
      "flex_flow": null,
      "grid_area": null,
      "grid_auto_columns": null,
      "grid_auto_flow": null,
      "grid_auto_rows": null,
      "grid_column": null,
      "grid_gap": null,
      "grid_row": null,
      "grid_template_areas": null,
      "grid_template_columns": null,
      "grid_template_rows": null,
      "height": null,
      "justify_content": null,
      "justify_items": null,
      "left": null,
      "margin": null,
      "max_height": null,
      "max_width": null,
      "min_height": null,
      "min_width": null,
      "object_fit": null,
      "object_position": null,
      "order": null,
      "overflow": null,
      "overflow_x": null,
      "overflow_y": null,
      "padding": null,
      "right": null,
      "top": null,
      "visibility": null,
      "width": null
     }
    },
    "ec8da6491745452eaba0a6fafb42d08f": {
     "model_module": "@jupyter-widgets/controls",
     "model_name": "FloatProgressModel",
     "state": {
      "_dom_classes": [],
      "_model_module": "@jupyter-widgets/controls",
      "_model_module_version": "1.5.0",
      "_model_name": "FloatProgressModel",
      "_view_count": null,
      "_view_module": "@jupyter-widgets/controls",
      "_view_module_version": "1.5.0",
      "_view_name": "ProgressView",
      "bar_style": "success",
      "description": "100%",
      "description_tooltip": null,
      "layout": "IPY_MODEL_3baf8d441cae4416b8a7b7cb8cfe840c",
      "max": 2409,
      "min": 0,
      "orientation": "horizontal",
      "style": "IPY_MODEL_4025d1fb7e0b4b07b1061ca52e1d12f2",
      "value": 2409
     }
    },
    "ee71b25710d4402ab01e7800f4ca11b7": {
     "model_module": "@jupyter-widgets/base",
     "model_name": "LayoutModel",
     "state": {
      "_model_module": "@jupyter-widgets/base",
      "_model_module_version": "1.2.0",
      "_model_name": "LayoutModel",
      "_view_count": null,
      "_view_module": "@jupyter-widgets/base",
      "_view_module_version": "1.2.0",
      "_view_name": "LayoutView",
      "align_content": null,
      "align_items": null,
      "align_self": null,
      "border": null,
      "bottom": null,
      "display": null,
      "flex": null,
      "flex_flow": null,
      "grid_area": null,
      "grid_auto_columns": null,
      "grid_auto_flow": null,
      "grid_auto_rows": null,
      "grid_column": null,
      "grid_gap": null,
      "grid_row": null,
      "grid_template_areas": null,
      "grid_template_columns": null,
      "grid_template_rows": null,
      "height": null,
      "justify_content": null,
      "justify_items": null,
      "left": null,
      "margin": null,
      "max_height": null,
      "max_width": null,
      "min_height": null,
      "min_width": null,
      "object_fit": null,
      "object_position": null,
      "order": null,
      "overflow": null,
      "overflow_x": null,
      "overflow_y": null,
      "padding": null,
      "right": null,
      "top": null,
      "visibility": null,
      "width": null
     }
    },
    "efb277138c574e089ea0420a201d2e88": {
     "model_module": "@jupyter-widgets/controls",
     "model_name": "HBoxModel",
     "state": {
      "_dom_classes": [],
      "_model_module": "@jupyter-widgets/controls",
      "_model_module_version": "1.5.0",
      "_model_name": "HBoxModel",
      "_view_count": null,
      "_view_module": "@jupyter-widgets/controls",
      "_view_module_version": "1.5.0",
      "_view_name": "HBoxView",
      "box_style": "",
      "children": [
       "IPY_MODEL_b40e6161726841fca432ef2a9f25d3ac",
       "IPY_MODEL_154cf36066524ef792fcc2c87f3497cb"
      ],
      "layout": "IPY_MODEL_ee71b25710d4402ab01e7800f4ca11b7"
     }
    },
    "f7eaa879eeb144679b96180548cfc097": {
     "model_module": "@jupyter-widgets/controls",
     "model_name": "ProgressStyleModel",
     "state": {
      "_model_module": "@jupyter-widgets/controls",
      "_model_module_version": "1.5.0",
      "_model_name": "ProgressStyleModel",
      "_view_count": null,
      "_view_module": "@jupyter-widgets/base",
      "_view_module_version": "1.2.0",
      "_view_name": "StyleView",
      "bar_color": null,
      "description_width": "initial"
     }
    }
   }
  }
 },
 "nbformat": 4,
 "nbformat_minor": 1
}
